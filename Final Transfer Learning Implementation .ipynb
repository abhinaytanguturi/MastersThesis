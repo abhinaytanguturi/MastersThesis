{
 "cells": [
  {
   "cell_type": "code",
   "execution_count": 1,
   "id": "ecee6f1e",
   "metadata": {},
   "outputs": [],
   "source": [
    "import numpy as np\n",
    "import pandas as pd\n",
    "from sklearn.utils.multiclass import unique_labels\n",
    "import os\n",
    "import matplotlib.pyplot as plt\n",
    "import matplotlib.image as mpimg\n",
    "import seaborn as sns\n",
    "import itertools\n",
    "from tqdm import tqdm\n",
    "from sklearn.model_selection import train_test_split\n",
    "from tensorflow.keras.preprocessing import image\n",
    "from os.path import join\n",
    "from mpl_toolkits.axes_grid1 import ImageGrid\n",
    "import tensorflow as tf\n",
    "\n",
    "from sklearn.metrics import confusion_matrix\n",
    "from tensorflow.keras.models import Sequential\n",
    "from tensorflow.keras.applications import VGG19 #For Transfer Learning\n",
    "from tensorflow.keras.preprocessing.image import ImageDataGenerator\n",
    "from tensorflow.keras.optimizers import SGD,Adam\n",
    "from tensorflow.keras.callbacks import ReduceLROnPlateau\n",
    "from tensorflow.keras.layers import Flatten,Dense,BatchNormalization,Activation,Dropout\n",
    "from tensorflow.keras.utils import to_categorical\n",
    "import category_encoders as ce\n",
    "from sklearn.preprocessing import label_binarize"
   ]
  },
  {
   "cell_type": "code",
   "execution_count": 2,
   "id": "c219cd9b",
   "metadata": {},
   "outputs": [],
   "source": [
    "raw_data_train = pd.read_csv('meat_train_data.csv')\n",
    "raw_data_test = pd.read_csv('meat_test_data.csv')"
   ]
  },
  {
   "cell_type": "code",
   "execution_count": 3,
   "id": "537f221d",
   "metadata": {},
   "outputs": [
    {
     "data": {
      "text/html": [
       "<div>\n",
       "<style scoped>\n",
       "    .dataframe tbody tr th:only-of-type {\n",
       "        vertical-align: middle;\n",
       "    }\n",
       "\n",
       "    .dataframe tbody tr th {\n",
       "        vertical-align: top;\n",
       "    }\n",
       "\n",
       "    .dataframe thead th {\n",
       "        text-align: right;\n",
       "    }\n",
       "</style>\n",
       "<table border=\"1\" class=\"dataframe\">\n",
       "  <thead>\n",
       "    <tr style=\"text-align: right;\">\n",
       "      <th></th>\n",
       "      <th>Unnamed: 0</th>\n",
       "      <th>level_0</th>\n",
       "      <th>DateTimeRecorded</th>\n",
       "      <th>PlantID</th>\n",
       "      <th>ProductID</th>\n",
       "      <th>Weight</th>\n",
       "      <th>TotEOLWeightSpec1</th>\n",
       "      <th>EOLBatchStart</th>\n",
       "      <th>filename_x</th>\n",
       "      <th>filename_y</th>\n",
       "    </tr>\n",
       "  </thead>\n",
       "  <tbody>\n",
       "    <tr>\n",
       "      <th>0</th>\n",
       "      <td>2</td>\n",
       "      <td>2</td>\n",
       "      <td>7/17/17 8:06</td>\n",
       "      <td>202.0</td>\n",
       "      <td>20004</td>\n",
       "      <td>1.18</td>\n",
       "      <td>25.185</td>\n",
       "      <td>6.366750e+10</td>\n",
       "      <td>camera-screenshot202200041500275215.png</td>\n",
       "      <td>background1500275180.601.png</td>\n",
       "    </tr>\n",
       "    <tr>\n",
       "      <th>1</th>\n",
       "      <td>3</td>\n",
       "      <td>3</td>\n",
       "      <td>7/17/17 8:07</td>\n",
       "      <td>202.0</td>\n",
       "      <td>20003</td>\n",
       "      <td>4.48</td>\n",
       "      <td>19.364</td>\n",
       "      <td>6.366750e+10</td>\n",
       "      <td>camera-screenshot202200031500275226.png</td>\n",
       "      <td>background1500275180.601.png</td>\n",
       "    </tr>\n",
       "    <tr>\n",
       "      <th>2</th>\n",
       "      <td>4</td>\n",
       "      <td>4</td>\n",
       "      <td>7/17/17 8:07</td>\n",
       "      <td>202.0</td>\n",
       "      <td>20004</td>\n",
       "      <td>1.08</td>\n",
       "      <td>36.614</td>\n",
       "      <td>6.366750e+10</td>\n",
       "      <td>camera-screenshot202200041500275242.png</td>\n",
       "      <td>background1500275180.601.png</td>\n",
       "    </tr>\n",
       "    <tr>\n",
       "      <th>3</th>\n",
       "      <td>5</td>\n",
       "      <td>5</td>\n",
       "      <td>7/17/17 8:07</td>\n",
       "      <td>202.0</td>\n",
       "      <td>20003</td>\n",
       "      <td>3.82</td>\n",
       "      <td>28.046</td>\n",
       "      <td>6.366750e+10</td>\n",
       "      <td>camera-screenshot202200031500275247.png</td>\n",
       "      <td>background1500275180.601.png</td>\n",
       "    </tr>\n",
       "    <tr>\n",
       "      <th>4</th>\n",
       "      <td>6</td>\n",
       "      <td>6</td>\n",
       "      <td>7/17/17 8:08</td>\n",
       "      <td>202.0</td>\n",
       "      <td>20004</td>\n",
       "      <td>1.08</td>\n",
       "      <td>48.043</td>\n",
       "      <td>6.366750e+10</td>\n",
       "      <td>camera-screenshot202200041500275315.png</td>\n",
       "      <td>background1500275357.372.png</td>\n",
       "    </tr>\n",
       "    <tr>\n",
       "      <th>...</th>\n",
       "      <td>...</td>\n",
       "      <td>...</td>\n",
       "      <td>...</td>\n",
       "      <td>...</td>\n",
       "      <td>...</td>\n",
       "      <td>...</td>\n",
       "      <td>...</td>\n",
       "      <td>...</td>\n",
       "      <td>...</td>\n",
       "      <td>...</td>\n",
       "    </tr>\n",
       "    <tr>\n",
       "      <th>6927</th>\n",
       "      <td>8664</td>\n",
       "      <td>8664</td>\n",
       "      <td>NaN</td>\n",
       "      <td>NaN</td>\n",
       "      <td>20002</td>\n",
       "      <td>7.42</td>\n",
       "      <td>NaN</td>\n",
       "      <td>NaN</td>\n",
       "      <td>augmented_image_93.png</td>\n",
       "      <td>NaN</td>\n",
       "    </tr>\n",
       "    <tr>\n",
       "      <th>6928</th>\n",
       "      <td>8665</td>\n",
       "      <td>8665</td>\n",
       "      <td>NaN</td>\n",
       "      <td>NaN</td>\n",
       "      <td>20002</td>\n",
       "      <td>10.80</td>\n",
       "      <td>NaN</td>\n",
       "      <td>NaN</td>\n",
       "      <td>augmented_image_94.png</td>\n",
       "      <td>NaN</td>\n",
       "    </tr>\n",
       "    <tr>\n",
       "      <th>6929</th>\n",
       "      <td>8666</td>\n",
       "      <td>8666</td>\n",
       "      <td>NaN</td>\n",
       "      <td>NaN</td>\n",
       "      <td>20002</td>\n",
       "      <td>8.96</td>\n",
       "      <td>NaN</td>\n",
       "      <td>NaN</td>\n",
       "      <td>augmented_image_95.png</td>\n",
       "      <td>NaN</td>\n",
       "    </tr>\n",
       "    <tr>\n",
       "      <th>6930</th>\n",
       "      <td>8668</td>\n",
       "      <td>8668</td>\n",
       "      <td>NaN</td>\n",
       "      <td>NaN</td>\n",
       "      <td>20002</td>\n",
       "      <td>8.58</td>\n",
       "      <td>NaN</td>\n",
       "      <td>NaN</td>\n",
       "      <td>augmented_image_97.png</td>\n",
       "      <td>NaN</td>\n",
       "    </tr>\n",
       "    <tr>\n",
       "      <th>6931</th>\n",
       "      <td>8669</td>\n",
       "      <td>8669</td>\n",
       "      <td>NaN</td>\n",
       "      <td>NaN</td>\n",
       "      <td>20002</td>\n",
       "      <td>9.38</td>\n",
       "      <td>NaN</td>\n",
       "      <td>NaN</td>\n",
       "      <td>augmented_image_98.png</td>\n",
       "      <td>NaN</td>\n",
       "    </tr>\n",
       "  </tbody>\n",
       "</table>\n",
       "<p>6932 rows × 10 columns</p>\n",
       "</div>"
      ],
      "text/plain": [
       "      Unnamed: 0  level_0 DateTimeRecorded  PlantID  ProductID  Weight  \\\n",
       "0              2        2     7/17/17 8:06    202.0      20004    1.18   \n",
       "1              3        3     7/17/17 8:07    202.0      20003    4.48   \n",
       "2              4        4     7/17/17 8:07    202.0      20004    1.08   \n",
       "3              5        5     7/17/17 8:07    202.0      20003    3.82   \n",
       "4              6        6     7/17/17 8:08    202.0      20004    1.08   \n",
       "...          ...      ...              ...      ...        ...     ...   \n",
       "6927        8664     8664              NaN      NaN      20002    7.42   \n",
       "6928        8665     8665              NaN      NaN      20002   10.80   \n",
       "6929        8666     8666              NaN      NaN      20002    8.96   \n",
       "6930        8668     8668              NaN      NaN      20002    8.58   \n",
       "6931        8669     8669              NaN      NaN      20002    9.38   \n",
       "\n",
       "      TotEOLWeightSpec1  EOLBatchStart  \\\n",
       "0                25.185   6.366750e+10   \n",
       "1                19.364   6.366750e+10   \n",
       "2                36.614   6.366750e+10   \n",
       "3                28.046   6.366750e+10   \n",
       "4                48.043   6.366750e+10   \n",
       "...                 ...            ...   \n",
       "6927                NaN            NaN   \n",
       "6928                NaN            NaN   \n",
       "6929                NaN            NaN   \n",
       "6930                NaN            NaN   \n",
       "6931                NaN            NaN   \n",
       "\n",
       "                                   filename_x                    filename_y  \n",
       "0     camera-screenshot202200041500275215.png  background1500275180.601.png  \n",
       "1     camera-screenshot202200031500275226.png  background1500275180.601.png  \n",
       "2     camera-screenshot202200041500275242.png  background1500275180.601.png  \n",
       "3     camera-screenshot202200031500275247.png  background1500275180.601.png  \n",
       "4     camera-screenshot202200041500275315.png  background1500275357.372.png  \n",
       "...                                       ...                           ...  \n",
       "6927                   augmented_image_93.png                           NaN  \n",
       "6928                   augmented_image_94.png                           NaN  \n",
       "6929                   augmented_image_95.png                           NaN  \n",
       "6930                   augmented_image_97.png                           NaN  \n",
       "6931                   augmented_image_98.png                           NaN  \n",
       "\n",
       "[6932 rows x 10 columns]"
      ]
     },
     "execution_count": 3,
     "metadata": {},
     "output_type": "execute_result"
    }
   ],
   "source": [
    "raw_data_train"
   ]
  },
  {
   "cell_type": "code",
   "execution_count": 4,
   "id": "7b0c7824",
   "metadata": {},
   "outputs": [],
   "source": [
    "raw_copy_train = raw_data_train[[\"ProductID\",\"filename_x\"]]\n",
    "raw_copy_test = raw_data_test[[\"ProductID\",\"filename_x\"]]"
   ]
  },
  {
   "cell_type": "code",
   "execution_count": 5,
   "id": "c9142d3b",
   "metadata": {},
   "outputs": [
    {
     "data": {
      "text/plain": [
       "array(['camera-screenshot202200041500275215.png',\n",
       "       'camera-screenshot202200031500275226.png',\n",
       "       'camera-screenshot202200041500275242.png', ...,\n",
       "       'augmented_image_95.png', 'augmented_image_97.png',\n",
       "       'augmented_image_98.png'], dtype=object)"
      ]
     },
     "execution_count": 5,
     "metadata": {},
     "output_type": "execute_result"
    }
   ],
   "source": [
    "product_names_train = raw_copy_train[\"filename_x\"].unique()\n",
    "product_names_train"
   ]
  },
  {
   "cell_type": "code",
   "execution_count": 6,
   "id": "cec1d4a5",
   "metadata": {},
   "outputs": [
    {
     "data": {
      "text/plain": [
       "array(['camera-screenshot202200041500275178.png',\n",
       "       'camera-screenshot202200031500275183.png',\n",
       "       'camera-screenshot202200041500275343.png', ...,\n",
       "       'augmented_image_92.png', 'augmented_image_96.png',\n",
       "       'augmented_image_99.png'], dtype=object)"
      ]
     },
     "execution_count": 6,
     "metadata": {},
     "output_type": "execute_result"
    }
   ],
   "source": [
    "product_names_test = raw_copy_test[\"filename_x\"].unique()\n",
    "product_names_test"
   ]
  },
  {
   "cell_type": "code",
   "execution_count": 7,
   "id": "b493018c",
   "metadata": {},
   "outputs": [],
   "source": [
    "products_train = raw_copy_train[\"ProductID\"]\n",
    "encoder=ce.OneHotEncoder(cols='ProductID',handle_unknown='return_nan',return_df=True,use_cat_names=True)"
   ]
  },
  {
   "cell_type": "code",
   "execution_count": 8,
   "id": "cb6425f8",
   "metadata": {},
   "outputs": [
    {
     "data": {
      "text/plain": [
       "20010    2289\n",
       "20003    1825\n",
       "20004    1793\n",
       "20001     905\n",
       "20002     120\n",
       "Name: ProductID, dtype: int64"
      ]
     },
     "execution_count": 8,
     "metadata": {},
     "output_type": "execute_result"
    }
   ],
   "source": [
    "products_train.value_counts()"
   ]
  },
  {
   "cell_type": "code",
   "execution_count": 9,
   "id": "edfe77c5",
   "metadata": {},
   "outputs": [],
   "source": [
    "products_test = raw_copy_test[\"ProductID\"]\n",
    "encoder = ce.OneHotEncoder(cols='ProductID',handle_unknown='return_nan',return_df=True,use_cat_names=True)"
   ]
  },
  {
   "cell_type": "code",
   "execution_count": 10,
   "id": "3839e4b2",
   "metadata": {},
   "outputs": [
    {
     "data": {
      "text/plain": [
       "20010    574\n",
       "20003    458\n",
       "20004    448\n",
       "20001    228\n",
       "20002     31\n",
       "Name: ProductID, dtype: int64"
      ]
     },
     "execution_count": 10,
     "metadata": {},
     "output_type": "execute_result"
    }
   ],
   "source": [
    "products_test.value_counts()"
   ]
  },
  {
   "cell_type": "code",
   "execution_count": 11,
   "id": "f35ab4f0",
   "metadata": {},
   "outputs": [
    {
     "name": "stderr",
     "output_type": "stream",
     "text": [
      "C:\\Users\\Lenovo\\anaconda3\\lib\\site-packages\\category_encoders\\utils.py:21: FutureWarning: is_categorical is deprecated and will be removed in a future version.  Use is_categorical_dtype instead\n",
      "  elif pd.api.types.is_categorical(cols):\n"
     ]
    },
    {
     "data": {
      "text/html": [
       "<div>\n",
       "<style scoped>\n",
       "    .dataframe tbody tr th:only-of-type {\n",
       "        vertical-align: middle;\n",
       "    }\n",
       "\n",
       "    .dataframe tbody tr th {\n",
       "        vertical-align: top;\n",
       "    }\n",
       "\n",
       "    .dataframe thead th {\n",
       "        text-align: right;\n",
       "    }\n",
       "</style>\n",
       "<table border=\"1\" class=\"dataframe\">\n",
       "  <thead>\n",
       "    <tr style=\"text-align: right;\">\n",
       "      <th></th>\n",
       "      <th>ProductID_20004.0</th>\n",
       "      <th>ProductID_20003.0</th>\n",
       "      <th>ProductID_20002.0</th>\n",
       "      <th>ProductID_20001.0</th>\n",
       "      <th>ProductID_20010.0</th>\n",
       "    </tr>\n",
       "  </thead>\n",
       "  <tbody>\n",
       "    <tr>\n",
       "      <th>0</th>\n",
       "      <td>1.0</td>\n",
       "      <td>0.0</td>\n",
       "      <td>0.0</td>\n",
       "      <td>0.0</td>\n",
       "      <td>0.0</td>\n",
       "    </tr>\n",
       "    <tr>\n",
       "      <th>1</th>\n",
       "      <td>0.0</td>\n",
       "      <td>1.0</td>\n",
       "      <td>0.0</td>\n",
       "      <td>0.0</td>\n",
       "      <td>0.0</td>\n",
       "    </tr>\n",
       "    <tr>\n",
       "      <th>2</th>\n",
       "      <td>1.0</td>\n",
       "      <td>0.0</td>\n",
       "      <td>0.0</td>\n",
       "      <td>0.0</td>\n",
       "      <td>0.0</td>\n",
       "    </tr>\n",
       "    <tr>\n",
       "      <th>3</th>\n",
       "      <td>0.0</td>\n",
       "      <td>1.0</td>\n",
       "      <td>0.0</td>\n",
       "      <td>0.0</td>\n",
       "      <td>0.0</td>\n",
       "    </tr>\n",
       "    <tr>\n",
       "      <th>4</th>\n",
       "      <td>1.0</td>\n",
       "      <td>0.0</td>\n",
       "      <td>0.0</td>\n",
       "      <td>0.0</td>\n",
       "      <td>0.0</td>\n",
       "    </tr>\n",
       "    <tr>\n",
       "      <th>...</th>\n",
       "      <td>...</td>\n",
       "      <td>...</td>\n",
       "      <td>...</td>\n",
       "      <td>...</td>\n",
       "      <td>...</td>\n",
       "    </tr>\n",
       "    <tr>\n",
       "      <th>6927</th>\n",
       "      <td>0.0</td>\n",
       "      <td>0.0</td>\n",
       "      <td>1.0</td>\n",
       "      <td>0.0</td>\n",
       "      <td>0.0</td>\n",
       "    </tr>\n",
       "    <tr>\n",
       "      <th>6928</th>\n",
       "      <td>0.0</td>\n",
       "      <td>0.0</td>\n",
       "      <td>1.0</td>\n",
       "      <td>0.0</td>\n",
       "      <td>0.0</td>\n",
       "    </tr>\n",
       "    <tr>\n",
       "      <th>6929</th>\n",
       "      <td>0.0</td>\n",
       "      <td>0.0</td>\n",
       "      <td>1.0</td>\n",
       "      <td>0.0</td>\n",
       "      <td>0.0</td>\n",
       "    </tr>\n",
       "    <tr>\n",
       "      <th>6930</th>\n",
       "      <td>0.0</td>\n",
       "      <td>0.0</td>\n",
       "      <td>1.0</td>\n",
       "      <td>0.0</td>\n",
       "      <td>0.0</td>\n",
       "    </tr>\n",
       "    <tr>\n",
       "      <th>6931</th>\n",
       "      <td>0.0</td>\n",
       "      <td>0.0</td>\n",
       "      <td>1.0</td>\n",
       "      <td>0.0</td>\n",
       "      <td>0.0</td>\n",
       "    </tr>\n",
       "  </tbody>\n",
       "</table>\n",
       "<p>6932 rows × 5 columns</p>\n",
       "</div>"
      ],
      "text/plain": [
       "      ProductID_20004.0  ProductID_20003.0  ProductID_20002.0  \\\n",
       "0                   1.0                0.0                0.0   \n",
       "1                   0.0                1.0                0.0   \n",
       "2                   1.0                0.0                0.0   \n",
       "3                   0.0                1.0                0.0   \n",
       "4                   1.0                0.0                0.0   \n",
       "...                 ...                ...                ...   \n",
       "6927                0.0                0.0                1.0   \n",
       "6928                0.0                0.0                1.0   \n",
       "6929                0.0                0.0                1.0   \n",
       "6930                0.0                0.0                1.0   \n",
       "6931                0.0                0.0                1.0   \n",
       "\n",
       "      ProductID_20001.0  ProductID_20010.0  \n",
       "0                   0.0                0.0  \n",
       "1                   0.0                0.0  \n",
       "2                   0.0                0.0  \n",
       "3                   0.0                0.0  \n",
       "4                   0.0                0.0  \n",
       "...                 ...                ...  \n",
       "6927                0.0                0.0  \n",
       "6928                0.0                0.0  \n",
       "6929                0.0                0.0  \n",
       "6930                0.0                0.0  \n",
       "6931                0.0                0.0  \n",
       "\n",
       "[6932 rows x 5 columns]"
      ]
     },
     "execution_count": 11,
     "metadata": {},
     "output_type": "execute_result"
    }
   ],
   "source": [
    "train_encoded = encoder.fit_transform(products_train)\n",
    "train_encoded"
   ]
  },
  {
   "cell_type": "code",
   "execution_count": 12,
   "id": "97273515",
   "metadata": {},
   "outputs": [
    {
     "name": "stderr",
     "output_type": "stream",
     "text": [
      "C:\\Users\\Lenovo\\anaconda3\\lib\\site-packages\\category_encoders\\utils.py:21: FutureWarning: is_categorical is deprecated and will be removed in a future version.  Use is_categorical_dtype instead\n",
      "  elif pd.api.types.is_categorical(cols):\n"
     ]
    },
    {
     "data": {
      "text/html": [
       "<div>\n",
       "<style scoped>\n",
       "    .dataframe tbody tr th:only-of-type {\n",
       "        vertical-align: middle;\n",
       "    }\n",
       "\n",
       "    .dataframe tbody tr th {\n",
       "        vertical-align: top;\n",
       "    }\n",
       "\n",
       "    .dataframe thead th {\n",
       "        text-align: right;\n",
       "    }\n",
       "</style>\n",
       "<table border=\"1\" class=\"dataframe\">\n",
       "  <thead>\n",
       "    <tr style=\"text-align: right;\">\n",
       "      <th></th>\n",
       "      <th>ProductID_20004.0</th>\n",
       "      <th>ProductID_20003.0</th>\n",
       "      <th>ProductID_20002.0</th>\n",
       "      <th>ProductID_20001.0</th>\n",
       "      <th>ProductID_20010.0</th>\n",
       "    </tr>\n",
       "  </thead>\n",
       "  <tbody>\n",
       "    <tr>\n",
       "      <th>0</th>\n",
       "      <td>1.0</td>\n",
       "      <td>0.0</td>\n",
       "      <td>0.0</td>\n",
       "      <td>0.0</td>\n",
       "      <td>0.0</td>\n",
       "    </tr>\n",
       "    <tr>\n",
       "      <th>1</th>\n",
       "      <td>0.0</td>\n",
       "      <td>1.0</td>\n",
       "      <td>0.0</td>\n",
       "      <td>0.0</td>\n",
       "      <td>0.0</td>\n",
       "    </tr>\n",
       "    <tr>\n",
       "      <th>2</th>\n",
       "      <td>1.0</td>\n",
       "      <td>0.0</td>\n",
       "      <td>0.0</td>\n",
       "      <td>0.0</td>\n",
       "      <td>0.0</td>\n",
       "    </tr>\n",
       "    <tr>\n",
       "      <th>3</th>\n",
       "      <td>0.0</td>\n",
       "      <td>1.0</td>\n",
       "      <td>0.0</td>\n",
       "      <td>0.0</td>\n",
       "      <td>0.0</td>\n",
       "    </tr>\n",
       "    <tr>\n",
       "      <th>4</th>\n",
       "      <td>1.0</td>\n",
       "      <td>0.0</td>\n",
       "      <td>0.0</td>\n",
       "      <td>0.0</td>\n",
       "      <td>0.0</td>\n",
       "    </tr>\n",
       "    <tr>\n",
       "      <th>...</th>\n",
       "      <td>...</td>\n",
       "      <td>...</td>\n",
       "      <td>...</td>\n",
       "      <td>...</td>\n",
       "      <td>...</td>\n",
       "    </tr>\n",
       "    <tr>\n",
       "      <th>1734</th>\n",
       "      <td>0.0</td>\n",
       "      <td>0.0</td>\n",
       "      <td>1.0</td>\n",
       "      <td>0.0</td>\n",
       "      <td>0.0</td>\n",
       "    </tr>\n",
       "    <tr>\n",
       "      <th>1735</th>\n",
       "      <td>0.0</td>\n",
       "      <td>0.0</td>\n",
       "      <td>1.0</td>\n",
       "      <td>0.0</td>\n",
       "      <td>0.0</td>\n",
       "    </tr>\n",
       "    <tr>\n",
       "      <th>1736</th>\n",
       "      <td>0.0</td>\n",
       "      <td>0.0</td>\n",
       "      <td>1.0</td>\n",
       "      <td>0.0</td>\n",
       "      <td>0.0</td>\n",
       "    </tr>\n",
       "    <tr>\n",
       "      <th>1737</th>\n",
       "      <td>0.0</td>\n",
       "      <td>0.0</td>\n",
       "      <td>1.0</td>\n",
       "      <td>0.0</td>\n",
       "      <td>0.0</td>\n",
       "    </tr>\n",
       "    <tr>\n",
       "      <th>1738</th>\n",
       "      <td>0.0</td>\n",
       "      <td>0.0</td>\n",
       "      <td>1.0</td>\n",
       "      <td>0.0</td>\n",
       "      <td>0.0</td>\n",
       "    </tr>\n",
       "  </tbody>\n",
       "</table>\n",
       "<p>1739 rows × 5 columns</p>\n",
       "</div>"
      ],
      "text/plain": [
       "      ProductID_20004.0  ProductID_20003.0  ProductID_20002.0  \\\n",
       "0                   1.0                0.0                0.0   \n",
       "1                   0.0                1.0                0.0   \n",
       "2                   1.0                0.0                0.0   \n",
       "3                   0.0                1.0                0.0   \n",
       "4                   1.0                0.0                0.0   \n",
       "...                 ...                ...                ...   \n",
       "1734                0.0                0.0                1.0   \n",
       "1735                0.0                0.0                1.0   \n",
       "1736                0.0                0.0                1.0   \n",
       "1737                0.0                0.0                1.0   \n",
       "1738                0.0                0.0                1.0   \n",
       "\n",
       "      ProductID_20001.0  ProductID_20010.0  \n",
       "0                   0.0                0.0  \n",
       "1                   0.0                0.0  \n",
       "2                   0.0                0.0  \n",
       "3                   0.0                0.0  \n",
       "4                   0.0                0.0  \n",
       "...                 ...                ...  \n",
       "1734                0.0                0.0  \n",
       "1735                0.0                0.0  \n",
       "1736                0.0                0.0  \n",
       "1737                0.0                0.0  \n",
       "1738                0.0                0.0  \n",
       "\n",
       "[1739 rows x 5 columns]"
      ]
     },
     "execution_count": 12,
     "metadata": {},
     "output_type": "execute_result"
    }
   ],
   "source": [
    "test_encoded = encoder.fit_transform(products_test)\n",
    "test_encoded"
   ]
  },
  {
   "cell_type": "code",
   "execution_count": 13,
   "id": "ae4d0b31",
   "metadata": {},
   "outputs": [],
   "source": [
    "def read_img(img_id, train, size):\n",
    "   \n",
    "    img = image.load_img(join(\"OneDrive/output_datasets/shrink_train_test_data\" , train, '%s' % img_id), target_size=size)\n",
    "    img = image.img_to_array(img)\n",
    "    return img"
   ]
  },
  {
   "cell_type": "code",
   "execution_count": 14,
   "id": "706cecb6",
   "metadata": {},
   "outputs": [
    {
     "name": "stderr",
     "output_type": "stream",
     "text": [
      "C:\\Users\\Lenovo\\anaconda3\\lib\\site-packages\\numpy\\lib\\arraysetops.py:580: FutureWarning: elementwise comparison failed; returning scalar instead, but in the future will perform elementwise comparison\n",
      "  mask |= (ar1 == a)\n",
      "100%|██████████| 6932/6932 [00:14<00:00, 483.81it/s]"
     ]
    },
    {
     "name": "stdout",
     "output_type": "stream",
     "text": [
      "Training Images Shape: (6932, 56, 56, 3) size: 65,216,256\n"
     ]
    },
    {
     "name": "stderr",
     "output_type": "stream",
     "text": [
      "\n"
     ]
    }
   ],
   "source": [
    "IMG_SIZE = 56\n",
    "\n",
    "X_all = np.zeros((len(raw_copy_train), IMG_SIZE, IMG_SIZE, 3), dtype='float32')\n",
    "Y_all = label_binarize(raw_copy_train[\"ProductID\"], classes = product_names_train)\n",
    "\n",
    "for i in tqdm(range(len(raw_copy_train))):\n",
    "    img = read_img(raw_copy_train['filename_x'][i],'train', (IMG_SIZE, IMG_SIZE))\n",
    "    x = np.expand_dims(img.copy(), axis=0)\n",
    "    X_all[i] = x / 255.0\n",
    "    \n",
    "print('Training Images Shape: {} size: {:,}'.format(X_all.shape, X_all.size))"
   ]
  },
  {
   "cell_type": "code",
   "execution_count": 15,
   "id": "eaf37ad4",
   "metadata": {},
   "outputs": [],
   "source": [
    "def read_img(img_id, test, size):\n",
    "   \n",
    "    img = image.load_img(join(\"OneDrive/output_datasets/shrink_train_test_data\" , test, '%s' % img_id), target_size=size)\n",
    "    img = image.img_to_array(img)\n",
    "    return img"
   ]
  },
  {
   "cell_type": "code",
   "execution_count": 16,
   "id": "8ebe3f99",
   "metadata": {},
   "outputs": [
    {
     "name": "stderr",
     "output_type": "stream",
     "text": [
      "C:\\Users\\Lenovo\\anaconda3\\lib\\site-packages\\numpy\\lib\\arraysetops.py:580: FutureWarning: elementwise comparison failed; returning scalar instead, but in the future will perform elementwise comparison\n",
      "  mask |= (ar1 == a)\n",
      "100%|██████████| 1739/1739 [00:03<00:00, 482.78it/s]"
     ]
    },
    {
     "name": "stdout",
     "output_type": "stream",
     "text": [
      "Test Images Shape: (1739, 56, 56, 3) size: 16,360,512\n"
     ]
    },
    {
     "name": "stderr",
     "output_type": "stream",
     "text": [
      "\n"
     ]
    }
   ],
   "source": [
    "IMG_SIZE = 56\n",
    "\n",
    "A_all = np.zeros((len(raw_copy_test), IMG_SIZE, IMG_SIZE, 3), dtype='float32')\n",
    "B_all = label_binarize(raw_copy_test[\"ProductID\"], classes = product_names_test)\n",
    "\n",
    "for i in tqdm(range(len(raw_copy_test))):\n",
    "    img = read_img(raw_copy_test['filename_x'][i],'test', (IMG_SIZE, IMG_SIZE))\n",
    "    a = np.expand_dims(img.copy(), axis=0)\n",
    "    A_all[i] = a / 255.0\n",
    "    \n",
    "print('Test Images Shape: {} size: {:,}'.format(A_all.shape, A_all.size))"
   ]
  },
  {
   "cell_type": "code",
   "execution_count": 17,
   "id": "ee58c0c3",
   "metadata": {},
   "outputs": [
    {
     "data": {
      "text/plain": [
       "(6932, 56, 56, 3)"
      ]
     },
     "execution_count": 17,
     "metadata": {},
     "output_type": "execute_result"
    }
   ],
   "source": [
    "X_all.shape"
   ]
  },
  {
   "cell_type": "code",
   "execution_count": 18,
   "id": "21b41d33",
   "metadata": {},
   "outputs": [
    {
     "data": {
      "text/plain": [
       "(1739, 56, 56, 3)"
      ]
     },
     "execution_count": 18,
     "metadata": {},
     "output_type": "execute_result"
    }
   ],
   "source": [
    "A_all.shape"
   ]
  },
  {
   "cell_type": "code",
   "execution_count": 19,
   "id": "d2d6a5da",
   "metadata": {},
   "outputs": [
    {
     "data": {
      "text/plain": [
       "(6932, 5)"
      ]
     },
     "execution_count": 19,
     "metadata": {},
     "output_type": "execute_result"
    }
   ],
   "source": [
    "train_encoded.shape"
   ]
  },
  {
   "cell_type": "code",
   "execution_count": 20,
   "id": "afb2efcc",
   "metadata": {},
   "outputs": [
    {
     "data": {
      "text/plain": [
       "(1739, 5)"
      ]
     },
     "execution_count": 20,
     "metadata": {},
     "output_type": "execute_result"
    }
   ],
   "source": [
    "test_encoded.shape"
   ]
  },
  {
   "cell_type": "code",
   "execution_count": 21,
   "id": "a0e5d1b5",
   "metadata": {},
   "outputs": [],
   "source": [
    "lrr= ReduceLROnPlateau(monitor='val_acc', factor=.01, patience=3, min_lr=1e-5)"
   ]
  },
  {
   "cell_type": "code",
   "execution_count": 22,
   "id": "3dad6ce6",
   "metadata": {},
   "outputs": [],
   "source": [
    "vgg_model = VGG19(include_top = False, weights = 'imagenet', input_shape = (56,56,3), classes = train_encoded.shape[1])"
   ]
  },
  {
   "cell_type": "code",
   "execution_count": 23,
   "id": "5feaa865",
   "metadata": {},
   "outputs": [],
   "source": [
    "model= Sequential()\n",
    "model.add(vgg_model) \n",
    "model.add(Flatten()) "
   ]
  },
  {
   "cell_type": "code",
   "execution_count": 24,
   "id": "134d91a5",
   "metadata": {},
   "outputs": [],
   "source": [
    "model.add(Dense(1024,activation=('relu'),input_dim=512))\n",
    "model.add(Dense(512,activation=('relu'))) \n",
    "model.add(Dense(256,activation=('relu'))) \n",
    "model.add(Dense(128,activation=('relu')))\n",
    "model.add(Dense(5,activation=('softmax'))) \n"
   ]
  },
  {
   "cell_type": "code",
   "execution_count": 25,
   "id": "d9e3f8c9",
   "metadata": {},
   "outputs": [
    {
     "name": "stdout",
     "output_type": "stream",
     "text": [
      "Model: \"sequential\"\n",
      "_________________________________________________________________\n",
      "Layer (type)                 Output Shape              Param #   \n",
      "=================================================================\n",
      "vgg19 (Functional)           (None, 1, 1, 512)         20024384  \n",
      "_________________________________________________________________\n",
      "flatten (Flatten)            (None, 512)               0         \n",
      "_________________________________________________________________\n",
      "dense (Dense)                (None, 1024)              525312    \n",
      "_________________________________________________________________\n",
      "dense_1 (Dense)              (None, 512)               524800    \n",
      "_________________________________________________________________\n",
      "dense_2 (Dense)              (None, 256)               131328    \n",
      "_________________________________________________________________\n",
      "dense_3 (Dense)              (None, 128)               32896     \n",
      "_________________________________________________________________\n",
      "dense_4 (Dense)              (None, 5)                 645       \n",
      "=================================================================\n",
      "Total params: 21,239,365\n",
      "Trainable params: 21,239,365\n",
      "Non-trainable params: 0\n",
      "_________________________________________________________________\n"
     ]
    }
   ],
   "source": [
    "model.summary()\n"
   ]
  },
  {
   "cell_type": "code",
   "execution_count": 26,
   "id": "73b80323",
   "metadata": {},
   "outputs": [
    {
     "name": "stderr",
     "output_type": "stream",
     "text": [
      "C:\\Users\\Lenovo\\anaconda3\\lib\\site-packages\\tensorflow\\python\\keras\\optimizer_v2\\optimizer_v2.py:374: UserWarning: The `lr` argument is deprecated, use `learning_rate` instead.\n",
      "  warnings.warn(\n"
     ]
    }
   ],
   "source": [
    "batch_size= 100\n",
    "epochs=5\n",
    "learning_rate=.001\n",
    "sgd=SGD(lr=learning_rate,momentum=.9,nesterov=False)\n",
    "adam=Adam(lr=learning_rate, beta_1=0.9, beta_2=0.999, epsilon=None, decay=0.0, amsgrad=False)\n",
    "model.compile(optimizer=sgd,loss='categorical_crossentropy',metrics=['accuracy'])"
   ]
  },
  {
   "cell_type": "code",
   "execution_count": 27,
   "id": "e2fb7cc1",
   "metadata": {},
   "outputs": [],
   "source": [
    "tf.config.run_functions_eagerly(True)"
   ]
  },
  {
   "cell_type": "code",
   "execution_count": 28,
   "id": "67346081",
   "metadata": {
    "scrolled": true
   },
   "outputs": [
    {
     "name": "stderr",
     "output_type": "stream",
     "text": [
      "C:\\Users\\Lenovo\\anaconda3\\lib\\site-packages\\tensorflow\\python\\data\\ops\\dataset_ops.py:3703: UserWarning: Even though the `tf.config.experimental_run_functions_eagerly` option is set, this option does not apply to tf.data functions. To force eager execution of tf.data functions, please use `tf.data.experimental.enable.debug_mode()`.\n",
      "  warnings.warn(\n",
      "C:\\Users\\Lenovo\\anaconda3\\lib\\site-packages\\tensorflow\\python\\data\\ops\\dataset_ops.py:3703: UserWarning: Even though the `tf.config.experimental_run_functions_eagerly` option is set, this option does not apply to tf.data functions. To force eager execution of tf.data functions, please use `tf.data.experimental.enable.debug_mode()`.\n",
      "  warnings.warn(\n"
     ]
    },
    {
     "name": "stdout",
     "output_type": "stream",
     "text": [
      "Epoch 1/5\n",
      "70/70 [==============================] - ETA: 0s - loss: 0.5674 - accuracy: 0.7986"
     ]
    },
    {
     "name": "stderr",
     "output_type": "stream",
     "text": [
      "C:\\Users\\Lenovo\\anaconda3\\lib\\site-packages\\tensorflow\\python\\data\\ops\\dataset_ops.py:3703: UserWarning: Even though the `tf.config.experimental_run_functions_eagerly` option is set, this option does not apply to tf.data functions. To force eager execution of tf.data functions, please use `tf.data.experimental.enable.debug_mode()`.\n",
      "  warnings.warn(\n"
     ]
    },
    {
     "name": "stdout",
     "output_type": "stream",
     "text": [
      "70/70 [==============================] - 551s 8s/step - loss: 0.5674 - accuracy: 0.7986 - val_loss: 0.2709 - val_accuracy: 0.9080\n",
      "WARNING:tensorflow:Learning rate reduction is conditioned on metric `val_acc` which is not available. Available metrics are: loss,accuracy,val_loss,val_accuracy,lr\n",
      "Epoch 2/5\n",
      "70/70 [==============================] - 572s 8s/step - loss: 0.1411 - accuracy: 0.9523 - val_loss: 0.1033 - val_accuracy: 0.9666\n",
      "WARNING:tensorflow:Learning rate reduction is conditioned on metric `val_acc` which is not available. Available metrics are: loss,accuracy,val_loss,val_accuracy,lr\n",
      "Epoch 3/5\n",
      "70/70 [==============================] - 570s 8s/step - loss: 0.1008 - accuracy: 0.9706 - val_loss: 0.1137 - val_accuracy: 0.9638\n",
      "WARNING:tensorflow:Learning rate reduction is conditioned on metric `val_acc` which is not available. Available metrics are: loss,accuracy,val_loss,val_accuracy,lr\n",
      "Epoch 4/5\n",
      "70/70 [==============================] - 582s 8s/step - loss: 0.0905 - accuracy: 0.9713 - val_loss: 0.1311 - val_accuracy: 0.9534\n",
      "WARNING:tensorflow:Learning rate reduction is conditioned on metric `val_acc` which is not available. Available metrics are: loss,accuracy,val_loss,val_accuracy,lr\n",
      "Epoch 5/5\n",
      "70/70 [==============================] - 584s 8s/step - loss: 0.0728 - accuracy: 0.9779 - val_loss: 0.0626 - val_accuracy: 0.9862\n",
      "WARNING:tensorflow:Learning rate reduction is conditioned on metric `val_acc` which is not available. Available metrics are: loss,accuracy,val_loss,val_accuracy,lr\n"
     ]
    }
   ],
   "source": [
    "vgg_model = model.fit(X_all, train_encoded, batch_size=batch_size, epochs=epochs, verbose=1, callbacks =[lrr],\n",
    "                      validation_data=(A_all, test_encoded))"
   ]
  },
  {
   "cell_type": "code",
   "execution_count": 29,
   "id": "4964f104",
   "metadata": {},
   "outputs": [
    {
     "name": "stderr",
     "output_type": "stream",
     "text": [
      "C:\\Users\\Lenovo\\anaconda3\\lib\\site-packages\\tensorflow\\python\\keras\\engine\\sequential.py:455: UserWarning: `model.predict_classes()` is deprecated and will be removed after 2021-01-01. Please use instead:* `np.argmax(model.predict(x), axis=-1)`,   if your model does multi-class classification   (e.g. if it uses a `softmax` last-layer activation).* `(model.predict(x) > 0.5).astype(\"int32\")`,   if your model does binary classification   (e.g. if it uses a `sigmoid` last-layer activation).\n",
      "  warnings.warn('`model.predict_classes()` is deprecated and '\n"
     ]
    }
   ],
   "source": [
    "predicted_images = model.predict_classes(A_all)\n"
   ]
  },
  {
   "cell_type": "code",
   "execution_count": 30,
   "id": "3a59e232",
   "metadata": {},
   "outputs": [],
   "source": [
    "trained_images = model.predict_classes(X_all)"
   ]
  },
  {
   "cell_type": "code",
   "execution_count": 31,
   "id": "65d29e85",
   "metadata": {},
   "outputs": [
    {
     "data": {
      "text/plain": [
       "array([0, 1, 0, ..., 2, 2, 2], dtype=int64)"
      ]
     },
     "execution_count": 31,
     "metadata": {},
     "output_type": "execute_result"
    }
   ],
   "source": [
    "trained_images "
   ]
  },
  {
   "cell_type": "code",
   "execution_count": 32,
   "id": "1bb5adde",
   "metadata": {},
   "outputs": [],
   "source": [
    "vgg_training = pd.DataFrame(trained_images, columns =[\"ProductID\"])"
   ]
  },
  {
   "cell_type": "code",
   "execution_count": 33,
   "id": "5f13a825",
   "metadata": {},
   "outputs": [
    {
     "data": {
      "text/plain": [
       "ProductID\n",
       "4            2280\n",
       "1            1838\n",
       "0            1794\n",
       "3             902\n",
       "2             118\n",
       "dtype: int64"
      ]
     },
     "execution_count": 33,
     "metadata": {},
     "output_type": "execute_result"
    }
   ],
   "source": [
    "vgg_training.value_counts()"
   ]
  },
  {
   "cell_type": "code",
   "execution_count": 35,
   "id": "e65baa79",
   "metadata": {},
   "outputs": [],
   "source": [
    "original_train_data = raw_copy_train[['ProductID']]"
   ]
  },
  {
   "cell_type": "code",
   "execution_count": 36,
   "id": "e103bda8",
   "metadata": {},
   "outputs": [],
   "source": [
    "train_data = original_train_data.replace({'ProductID':{20001:3, 20002:2, 20003:1, 20004:0, 20010:4 }})"
   ]
  },
  {
   "cell_type": "code",
   "execution_count": 37,
   "id": "25a31f27",
   "metadata": {},
   "outputs": [
    {
     "data": {
      "text/html": [
       "<div>\n",
       "<style scoped>\n",
       "    .dataframe tbody tr th:only-of-type {\n",
       "        vertical-align: middle;\n",
       "    }\n",
       "\n",
       "    .dataframe tbody tr th {\n",
       "        vertical-align: top;\n",
       "    }\n",
       "\n",
       "    .dataframe thead th {\n",
       "        text-align: right;\n",
       "    }\n",
       "</style>\n",
       "<table border=\"1\" class=\"dataframe\">\n",
       "  <thead>\n",
       "    <tr style=\"text-align: right;\">\n",
       "      <th></th>\n",
       "      <th>ProductID</th>\n",
       "    </tr>\n",
       "  </thead>\n",
       "  <tbody>\n",
       "    <tr>\n",
       "      <th>0</th>\n",
       "      <td>0</td>\n",
       "    </tr>\n",
       "    <tr>\n",
       "      <th>1</th>\n",
       "      <td>1</td>\n",
       "    </tr>\n",
       "    <tr>\n",
       "      <th>2</th>\n",
       "      <td>0</td>\n",
       "    </tr>\n",
       "    <tr>\n",
       "      <th>3</th>\n",
       "      <td>1</td>\n",
       "    </tr>\n",
       "    <tr>\n",
       "      <th>4</th>\n",
       "      <td>0</td>\n",
       "    </tr>\n",
       "    <tr>\n",
       "      <th>...</th>\n",
       "      <td>...</td>\n",
       "    </tr>\n",
       "    <tr>\n",
       "      <th>6927</th>\n",
       "      <td>2</td>\n",
       "    </tr>\n",
       "    <tr>\n",
       "      <th>6928</th>\n",
       "      <td>2</td>\n",
       "    </tr>\n",
       "    <tr>\n",
       "      <th>6929</th>\n",
       "      <td>2</td>\n",
       "    </tr>\n",
       "    <tr>\n",
       "      <th>6930</th>\n",
       "      <td>2</td>\n",
       "    </tr>\n",
       "    <tr>\n",
       "      <th>6931</th>\n",
       "      <td>2</td>\n",
       "    </tr>\n",
       "  </tbody>\n",
       "</table>\n",
       "<p>6932 rows × 1 columns</p>\n",
       "</div>"
      ],
      "text/plain": [
       "      ProductID\n",
       "0             0\n",
       "1             1\n",
       "2             0\n",
       "3             1\n",
       "4             0\n",
       "...         ...\n",
       "6927          2\n",
       "6928          2\n",
       "6929          2\n",
       "6930          2\n",
       "6931          2\n",
       "\n",
       "[6932 rows x 1 columns]"
      ]
     },
     "execution_count": 37,
     "metadata": {},
     "output_type": "execute_result"
    }
   ],
   "source": [
    "train_data"
   ]
  },
  {
   "cell_type": "code",
   "execution_count": 38,
   "id": "5ce02b6c",
   "metadata": {},
   "outputs": [
    {
     "name": "stdout",
     "output_type": "stream",
     "text": [
      "              precision    recall  f1-score   support\n",
      "\n",
      "           0       1.00      1.00      1.00      1794\n",
      "           1       0.99      0.98      0.98      1838\n",
      "           2       0.95      0.97      0.96       118\n",
      "           3       0.97      0.97      0.97       902\n",
      "           4       0.99      1.00      0.99      2280\n",
      "\n",
      "    accuracy                           0.99      6932\n",
      "   macro avg       0.98      0.98      0.98      6932\n",
      "weighted avg       0.99      0.99      0.99      6932\n",
      "\n"
     ]
    }
   ],
   "source": [
    "#train Data Metrics \n",
    "from sklearn import metrics\n",
    "\n",
    "print(metrics.classification_report(trained_images, train_data))"
   ]
  },
  {
   "cell_type": "code",
   "execution_count": 32,
   "id": "e8cdc99a",
   "metadata": {},
   "outputs": [
    {
     "data": {
      "text/plain": [
       "array([0, 1, 0, ..., 2, 4, 2], dtype=int64)"
      ]
     },
     "execution_count": 32,
     "metadata": {},
     "output_type": "execute_result"
    }
   ],
   "source": [
    "predicted_images"
   ]
  },
  {
   "cell_type": "code",
   "execution_count": 63,
   "id": "f57e8da7",
   "metadata": {},
   "outputs": [],
   "source": [
    "vgg_predictions = pd.DataFrame(predicted_images, columns = [\"ProductID\"])"
   ]
  },
  {
   "cell_type": "code",
   "execution_count": 64,
   "id": "180dbe1b",
   "metadata": {},
   "outputs": [
    {
     "data": {
      "text/plain": [
       "ProductID\n",
       "4            572\n",
       "1            460\n",
       "0            449\n",
       "3            228\n",
       "2             30\n",
       "dtype: int64"
      ]
     },
     "execution_count": 64,
     "metadata": {},
     "output_type": "execute_result"
    }
   ],
   "source": [
    "vgg_predictions.value_counts()"
   ]
  },
  {
   "cell_type": "code",
   "execution_count": 65,
   "id": "9fe7543e",
   "metadata": {},
   "outputs": [],
   "source": [
    "original_test_data = raw_copy_test[['ProductID']]"
   ]
  },
  {
   "cell_type": "code",
   "execution_count": 66,
   "id": "935d8f64",
   "metadata": {},
   "outputs": [],
   "source": [
    "test_data = original_test_data.replace({'ProductID':{20001:3, 20002:2, 20003:1, 20004:0, 20010:4 }})"
   ]
  },
  {
   "cell_type": "code",
   "execution_count": 75,
   "id": "510b15dd",
   "metadata": {},
   "outputs": [
    {
     "data": {
      "text/html": [
       "<div>\n",
       "<style scoped>\n",
       "    .dataframe tbody tr th:only-of-type {\n",
       "        vertical-align: middle;\n",
       "    }\n",
       "\n",
       "    .dataframe tbody tr th {\n",
       "        vertical-align: top;\n",
       "    }\n",
       "\n",
       "    .dataframe thead th {\n",
       "        text-align: right;\n",
       "    }\n",
       "</style>\n",
       "<table border=\"1\" class=\"dataframe\">\n",
       "  <thead>\n",
       "    <tr style=\"text-align: right;\">\n",
       "      <th></th>\n",
       "      <th>ProductID</th>\n",
       "    </tr>\n",
       "  </thead>\n",
       "  <tbody>\n",
       "    <tr>\n",
       "      <th>0</th>\n",
       "      <td>0</td>\n",
       "    </tr>\n",
       "    <tr>\n",
       "      <th>1</th>\n",
       "      <td>1</td>\n",
       "    </tr>\n",
       "    <tr>\n",
       "      <th>2</th>\n",
       "      <td>0</td>\n",
       "    </tr>\n",
       "    <tr>\n",
       "      <th>3</th>\n",
       "      <td>1</td>\n",
       "    </tr>\n",
       "    <tr>\n",
       "      <th>4</th>\n",
       "      <td>0</td>\n",
       "    </tr>\n",
       "    <tr>\n",
       "      <th>...</th>\n",
       "      <td>...</td>\n",
       "    </tr>\n",
       "    <tr>\n",
       "      <th>1734</th>\n",
       "      <td>2</td>\n",
       "    </tr>\n",
       "    <tr>\n",
       "      <th>1735</th>\n",
       "      <td>2</td>\n",
       "    </tr>\n",
       "    <tr>\n",
       "      <th>1736</th>\n",
       "      <td>2</td>\n",
       "    </tr>\n",
       "    <tr>\n",
       "      <th>1737</th>\n",
       "      <td>2</td>\n",
       "    </tr>\n",
       "    <tr>\n",
       "      <th>1738</th>\n",
       "      <td>2</td>\n",
       "    </tr>\n",
       "  </tbody>\n",
       "</table>\n",
       "<p>1739 rows × 1 columns</p>\n",
       "</div>"
      ],
      "text/plain": [
       "      ProductID\n",
       "0             0\n",
       "1             1\n",
       "2             0\n",
       "3             1\n",
       "4             0\n",
       "...         ...\n",
       "1734          2\n",
       "1735          2\n",
       "1736          2\n",
       "1737          2\n",
       "1738          2\n",
       "\n",
       "[1739 rows x 1 columns]"
      ]
     },
     "execution_count": 75,
     "metadata": {},
     "output_type": "execute_result"
    }
   ],
   "source": [
    "test_data"
   ]
  },
  {
   "cell_type": "code",
   "execution_count": 74,
   "id": "c8d5d2d3",
   "metadata": {},
   "outputs": [
    {
     "name": "stdout",
     "output_type": "stream",
     "text": [
      "              precision    recall  f1-score   support\n",
      "\n",
      "           0       1.00      1.00      1.00       449\n",
      "           1       0.98      0.98      0.98       460\n",
      "           2       0.94      0.97      0.95        30\n",
      "           3       0.97      0.97      0.97       228\n",
      "           4       0.99      0.99      0.99       572\n",
      "\n",
      "    accuracy                           0.99      1739\n",
      "   macro avg       0.97      0.98      0.98      1739\n",
      "weighted avg       0.99      0.99      0.99      1739\n",
      "\n"
     ]
    }
   ],
   "source": [
    "#test Data Metrics\n",
    "from sklearn import metrics\n",
    "\n",
    "# Print the precision and recall, among other metrics\n",
    "print(metrics.classification_report(predicted_images, test_data))"
   ]
  },
  {
   "cell_type": "code",
   "execution_count": null,
   "id": "05f5434b",
   "metadata": {},
   "outputs": [],
   "source": [
    "# 0 - 20004\n",
    "# 1 - 20003\n",
    "# 2 - 20002\n",
    "# 3 - 20001\n",
    "# 4 - 20010"
   ]
  },
  {
   "cell_type": "code",
   "execution_count": 72,
   "id": "4782ee49",
   "metadata": {},
   "outputs": [],
   "source": [
    "def plot_confusion_matrix( confusion_mtx , classesx, classesy,\n",
    "                          normalize=False,\n",
    "                          title=None,\n",
    "                          cmap=plt.cm.Greens):\n",
    "\n",
    "    if not title:\n",
    "        if normalize:\n",
    "            title = 'Normalized confusion matrix'\n",
    "        else:\n",
    "            title = 'Confusion matrix, without normalization'\n",
    "\n",
    "    #Compute confusion matrix\n",
    "    cm = confusion_matrix(test_data, predicted_images)\n",
    "    if normalize:\n",
    "        cm = cm.astype('float') / cm.sum(axis=1)[:, np.newaxis]\n",
    "        print(\"Normalized confusion matrix\")\n",
    "    else:\n",
    "        print('Confusion matrix, without normalization')\n",
    "\n",
    "#print(cm)\n",
    "\n",
    "    fig, ax = plt.subplots(figsize=(7,7))\n",
    "    im = ax.imshow(cm, interpolation='nearest', cmap=cmap)\n",
    "    ax.figure.colorbar(im, ax=ax)\n",
    "    # We want to show all ticks...\n",
    "    ax.set(xticks=np.arange(cm.shape[1]),\n",
    "           yticks=np.arange(cm.shape[0]),\n",
    "           # ... and label them with the respective list entries\n",
    "           xticklabels=classesx, yticklabels=classesy,\n",
    "           title=title,\n",
    "           ylabel='True label',\n",
    "           xlabel='Predicted label')\n",
    "\n",
    "\n",
    "    #Rotate the tick labels and set their alignment.\n",
    "    plt.setp(ax.get_xticklabels(), rotation=45, ha=\"right\",\n",
    "             rotation_mode=\"anchor\")\n",
    "    # Loop over data dimensions and create text annotations.\n",
    "    fmt = '.2f' if normalize else 'd'\n",
    "    thresh = cm.max() / 2.\n",
    "    for i in range(cm.shape[0]):\n",
    "        for j in range(cm.shape[1]):\n",
    "            ax.text(j, i, format(cm[i, j], fmt),\n",
    "                    ha=\"center\", va=\"center\",\n",
    "                    color=\"white\" if cm[i, j] > thresh else \"black\")\n",
    "    fig.tight_layout()\n",
    "    return ax\n",
    "\n",
    "np.set_printoptions(precision=2)"
   ]
  },
  {
   "cell_type": "code",
   "execution_count": 70,
   "id": "a2bba8f6",
   "metadata": {},
   "outputs": [],
   "source": [
    "confusion_mtx = confusion_matrix(test_data, predicted_images)"
   ]
  },
  {
   "cell_type": "code",
   "execution_count": 43,
   "id": "dcac1571",
   "metadata": {},
   "outputs": [
    {
     "data": {
      "text/plain": [
       "array([[1792,    1,    0,    0,    0],\n",
       "       [   1, 1803,    0,   19,    2],\n",
       "       [   0,    0,  114,    0,    6],\n",
       "       [   1,   25,    0,  876,    3],\n",
       "       [   0,    9,    4,    7, 2269]], dtype=int64)"
      ]
     },
     "execution_count": 43,
     "metadata": {},
     "output_type": "execute_result"
    }
   ],
   "source": [
    "confusion_mtx"
   ]
  },
  {
   "cell_type": "code",
   "execution_count": 67,
   "id": "923010e7",
   "metadata": {},
   "outputs": [
    {
     "name": "stdout",
     "output_type": "stream",
     "text": [
      "Accuracy: 0.986199\n",
      "Precision: 0.986199\n",
      "F1 score: 0.986199\n",
      "Recall Score : 0.986199\n"
     ]
    },
    {
     "name": "stderr",
     "output_type": "stream",
     "text": [
      "C:\\Users\\Lenovo\\anaconda3\\lib\\site-packages\\sklearn\\metrics\\_classification.py:1295: UserWarning: Note that pos_label (set to 'positive') is ignored when average != 'binary' (got 'micro'). You may use labels=[pos_label] to specify a single positive class.\n",
      "  warnings.warn(\"Note that pos_label (set to %r) is ignored when \"\n",
      "C:\\Users\\Lenovo\\anaconda3\\lib\\site-packages\\sklearn\\metrics\\_classification.py:1295: UserWarning: Note that pos_label (set to 'positive') is ignored when average != 'binary' (got 'micro'). You may use labels=[pos_label] to specify a single positive class.\n",
      "  warnings.warn(\"Note that pos_label (set to %r) is ignored when \"\n",
      "C:\\Users\\Lenovo\\anaconda3\\lib\\site-packages\\sklearn\\metrics\\_classification.py:1295: UserWarning: Note that pos_label (set to 'positive') is ignored when average != 'binary' (got 'micro'). You may use labels=[pos_label] to specify a single positive class.\n",
      "  warnings.warn(\"Note that pos_label (set to %r) is ignored when \"\n"
     ]
    }
   ],
   "source": [
    "from sklearn.metrics import *\n",
    "# accuracy: (tp + tn) / (p + n)\n",
    "accuracy = accuracy_score(predicted_images, test_data)\n",
    "print('Accuracy: %f' % accuracy)\n",
    "# f1: 2 tp / (2 tp + fp + fn)\n",
    "f1 = f1_score(predicted_images, test_data , pos_label='positive',\n",
    "                                           average='micro')\n",
    "precision = precision_score(predicted_images, test_data,pos_label='positive',\n",
    "                                           average='micro')\n",
    "print('Precision: %f' % precision)\n",
    "# recall: tp / (tp + fn)\n",
    "recall = recall_score(predicted_images, test_data,pos_label='positive',\n",
    "                                           average='micro')\n",
    "print('F1 score: %f' % f1)\n",
    "print('Recall Score : %f' % recall)"
   ]
  },
  {
   "cell_type": "code",
   "execution_count": 68,
   "id": "d446c986",
   "metadata": {},
   "outputs": [
    {
     "name": "stdout",
     "output_type": "stream",
     "text": [
      "Accuracy: 0.988748\n",
      "Precision: 0.988748\n",
      "F1 score: 0.988748\n",
      "Recall Score : 0.988748\n"
     ]
    },
    {
     "name": "stderr",
     "output_type": "stream",
     "text": [
      "C:\\Users\\Lenovo\\anaconda3\\lib\\site-packages\\sklearn\\metrics\\_classification.py:1295: UserWarning: Note that pos_label (set to 'positive') is ignored when average != 'binary' (got 'micro'). You may use labels=[pos_label] to specify a single positive class.\n",
      "  warnings.warn(\"Note that pos_label (set to %r) is ignored when \"\n",
      "C:\\Users\\Lenovo\\anaconda3\\lib\\site-packages\\sklearn\\metrics\\_classification.py:1295: UserWarning: Note that pos_label (set to 'positive') is ignored when average != 'binary' (got 'micro'). You may use labels=[pos_label] to specify a single positive class.\n",
      "  warnings.warn(\"Note that pos_label (set to %r) is ignored when \"\n",
      "C:\\Users\\Lenovo\\anaconda3\\lib\\site-packages\\sklearn\\metrics\\_classification.py:1295: UserWarning: Note that pos_label (set to 'positive') is ignored when average != 'binary' (got 'micro'). You may use labels=[pos_label] to specify a single positive class.\n",
      "  warnings.warn(\"Note that pos_label (set to %r) is ignored when \"\n"
     ]
    }
   ],
   "source": [
    "from sklearn.metrics import *\n",
    "# accuracy: (tp + tn) / (p + n)\n",
    "accuracy = accuracy_score(trained_images, train_data)\n",
    "print('Accuracy: %f' % accuracy)\n",
    "# f1: 2 tp / (2 tp + fp + fn)\n",
    "f1 = f1_score(trained_images, train_data , pos_label='positive',\n",
    "                                           average='micro')\n",
    "precision = precision_score(trained_images, train_data,pos_label='positive',\n",
    "                                           average='micro')\n",
    "print('Precision: %f' % precision)\n",
    "# recall: tp / (tp + fn)\n",
    "recall = recall_score(trained_images, train_data,pos_label='positive',\n",
    "                                           average='micro')\n",
    "print('F1 score: %f' % f1)\n",
    "print('Recall Score : %f' % recall)"
   ]
  },
  {
   "cell_type": "code",
   "execution_count": 69,
   "id": "0d7e6a73",
   "metadata": {},
   "outputs": [],
   "source": [
    "class_namesx= ['20004','20003','20002','20001','20010']\n",
    "class_namesy= ['20004','20003','20002','20001', '20010']"
   ]
  },
  {
   "cell_type": "code",
   "execution_count": 88,
   "id": "e9cd0b91",
   "metadata": {},
   "outputs": [
    {
     "name": "stdout",
     "output_type": "stream",
     "text": [
      "Confusion matrix, without normalization\n"
     ]
    },
    {
     "data": {
      "text/plain": [
       "<AxesSubplot:title={'center':'Confusion matrix, image count'}, xlabel='Predicted label', ylabel='True label'>"
      ]
     },
     "execution_count": 88,
     "metadata": {},
     "output_type": "execute_result"
    },
    {
     "data": {
      "image/png": "[encoded data removed]",
      "text/plain": [
       "<Figure size 504x504 with 2 Axes>"
      ]
     },
     "metadata": {
      "needs_background": "light"
     },
     "output_type": "display_data"
    }
   ],
   "source": [
    "plot_confusion_matrix(confusion_mtx , classesx = class_namesy, classesy = class_namesx, title='Confusion matrix, image count')"
   ]
  },
  {
   "cell_type": "code",
   "execution_count": 53,
   "id": "93f486ae",
   "metadata": {},
   "outputs": [
    {
     "name": "stdout",
     "output_type": "stream",
     "text": [
      "Confusion matrix, without normalization\n"
     ]
    },
    {
     "data": {
      "text/plain": [
       "<AxesSubplot:title={'center':'Confusion matrix, image count'}, xlabel='Predicted label', ylabel='True label'>"
      ]
     },
     "execution_count": 53,
     "metadata": {},
     "output_type": "execute_result"
    },
    {
     "data": {
      "image/png": "[encoded data removed]",
      "text/plain": [
       "<Figure size 504x504 with 2 Axes>"
      ]
     },
     "metadata": {
      "needs_background": "light"
     },
     "output_type": "display_data"
    }
   ],
   "source": [
    "plot_confusion_matrix(confusion_mtx , classesx = class_namesy, classesy = class_namesx, title='Confusion matrix, image count')"
   ]
  },
  {
   "cell_type": "code",
   "execution_count": 73,
   "id": "4614d5b3",
   "metadata": {},
   "outputs": [
    {
     "name": "stdout",
     "output_type": "stream",
     "text": [
      "Normalized confusion matrix\n"
     ]
    },
    {
     "data": {
      "text/plain": [
       "<AxesSubplot:title={'center':'Confusion matrix, percentages'}, xlabel='Predicted label', ylabel='True label'>"
      ]
     },
     "execution_count": 73,
     "metadata": {},
     "output_type": "execute_result"
    },
    {
     "data": {
      "image/png": "[encoded data removed]",
      "text/plain": [
       "<Figure size 504x504 with 2 Axes>"
      ]
     },
     "metadata": {
      "needs_background": "light"
     },
     "output_type": "display_data"
    }
   ],
   "source": [
    "plot_confusion_matrix(confusion_mtx , classesx = class_namesy, classesy = class_namesx,normalize=True, title='Confusion matrix, percentages')"
   ]
  },
  {
   "cell_type": "code",
   "execution_count": 60,
   "id": "72dd0c6c",
   "metadata": {},
   "outputs": [
    {
     "name": "stdout",
     "output_type": "stream",
     "text": [
      "Normalized confusion matrix\n"
     ]
    },
    {
     "data": {
      "text/plain": [
       "<AxesSubplot:title={'center':'Confusion Matrix for Training Data in VGG19 Net'}, xlabel='Predicted label', ylabel='True label'>"
      ]
     },
     "execution_count": 60,
     "metadata": {},
     "output_type": "execute_result"
    },
    {
     "data": {
      "image/png": "[encoded data removed]",
      "text/plain": [
       "<Figure size 504x504 with 2 Axes>"
      ]
     },
     "metadata": {
      "needs_background": "light"
     },
     "output_type": "display_data"
    }
   ],
   "source": [
    "plot_confusion_matrix(confusion_mtx , classesx = class_namesy, classesy = class_namesx,normalize=True, title='Confusion Matrix for Training Data in VGG19 Net')"
   ]
  }
 ],
 "metadata": {
  "kernelspec": {
   "display_name": "Python 3",
   "language": "python",
   "name": "python3"
  },
  "language_info": {
   "codemirror_mode": {
    "name": "ipython",
    "version": 3
   },
   "file_extension": ".py",
   "mimetype": "text/x-python",
   "name": "python",
   "nbconvert_exporter": "python",
   "pygments_lexer": "ipython3",
   "version": "3.8.8"
  }
 },
 "nbformat": 4,
 "nbformat_minor": 5
}
