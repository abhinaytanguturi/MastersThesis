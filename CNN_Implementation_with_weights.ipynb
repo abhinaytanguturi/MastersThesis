{
 "cells": [
  {
   "cell_type": "code",
   "execution_count": 2,
   "metadata": {},
   "outputs": [],
   "source": [
    "import seaborn as sns\n",
    "import matplotlib.pyplot as plt\n",
    "import pandas as pd\n",
    "import numpy as np\n",
    "import tensorflow as tf\n",
    "import category_encoders as ce\n",
    "\n",
    "from os.path import join\n",
    "from tqdm import tqdm\n",
    "from tensorflow.keras.preprocessing import image\n",
    "from sklearn.preprocessing import label_binarize\n",
    "from sklearn.model_selection import train_test_split\n",
    "from mpl_toolkits.axes_grid1 import ImageGrid\n",
    "from tensorflow.keras.models import Sequential, Model \n",
    "from tensorflow.keras.layers import Dense, Dropout, Flatten, Conv2D, MaxPooling2D, Input\n",
    "from tensorflow.keras.layers import Concatenate, concatenate\n",
    "from tensorflow.keras.preprocessing.image import ImageDataGenerator\n",
    "from tensorflow.keras.callbacks import ModelCheckpoint\n",
    "from tensorflow.keras.models import load_model\n",
    "from tensorflow.keras.losses import categorical_crossentropy\n",
    "from tensorflow.keras.optimizers import SGD, Adam\n",
    "from keras.utils.vis_utils import plot_model"
   ]
  },
  {
   "cell_type": "code",
   "execution_count": 2,
   "metadata": {},
   "outputs": [],
   "source": [
    "raw_data_train = pd.read_csv('meat_train_data.csv')\n",
    "raw_data_test = pd.read_csv('meat_test_data.csv')"
   ]
  },
  {
   "cell_type": "code",
   "execution_count": 3,
   "metadata": {},
   "outputs": [
    {
     "data": {
      "text/html": [
       "<div>\n",
       "<style scoped>\n",
       "    .dataframe tbody tr th:only-of-type {\n",
       "        vertical-align: middle;\n",
       "    }\n",
       "\n",
       "    .dataframe tbody tr th {\n",
       "        vertical-align: top;\n",
       "    }\n",
       "\n",
       "    .dataframe thead th {\n",
       "        text-align: right;\n",
       "    }\n",
       "</style>\n",
       "<table border=\"1\" class=\"dataframe\">\n",
       "  <thead>\n",
       "    <tr style=\"text-align: right;\">\n",
       "      <th></th>\n",
       "      <th>Unnamed: 0</th>\n",
       "      <th>level_0</th>\n",
       "      <th>DateTimeRecorded</th>\n",
       "      <th>PlantID</th>\n",
       "      <th>ProductID</th>\n",
       "      <th>Weight</th>\n",
       "      <th>TotEOLWeightSpec1</th>\n",
       "      <th>EOLBatchStart</th>\n",
       "      <th>filename_x</th>\n",
       "      <th>filename_y</th>\n",
       "    </tr>\n",
       "  </thead>\n",
       "  <tbody>\n",
       "    <tr>\n",
       "      <th>0</th>\n",
       "      <td>2</td>\n",
       "      <td>2</td>\n",
       "      <td>7/17/17 8:06</td>\n",
       "      <td>202.0</td>\n",
       "      <td>20004</td>\n",
       "      <td>1.18</td>\n",
       "      <td>25.185</td>\n",
       "      <td>6.366750e+10</td>\n",
       "      <td>camera-screenshot202200041500275215.png</td>\n",
       "      <td>background1500275180.601.png</td>\n",
       "    </tr>\n",
       "    <tr>\n",
       "      <th>1</th>\n",
       "      <td>3</td>\n",
       "      <td>3</td>\n",
       "      <td>7/17/17 8:07</td>\n",
       "      <td>202.0</td>\n",
       "      <td>20003</td>\n",
       "      <td>4.48</td>\n",
       "      <td>19.364</td>\n",
       "      <td>6.366750e+10</td>\n",
       "      <td>camera-screenshot202200031500275226.png</td>\n",
       "      <td>background1500275180.601.png</td>\n",
       "    </tr>\n",
       "    <tr>\n",
       "      <th>2</th>\n",
       "      <td>4</td>\n",
       "      <td>4</td>\n",
       "      <td>7/17/17 8:07</td>\n",
       "      <td>202.0</td>\n",
       "      <td>20004</td>\n",
       "      <td>1.08</td>\n",
       "      <td>36.614</td>\n",
       "      <td>6.366750e+10</td>\n",
       "      <td>camera-screenshot202200041500275242.png</td>\n",
       "      <td>background1500275180.601.png</td>\n",
       "    </tr>\n",
       "    <tr>\n",
       "      <th>3</th>\n",
       "      <td>5</td>\n",
       "      <td>5</td>\n",
       "      <td>7/17/17 8:07</td>\n",
       "      <td>202.0</td>\n",
       "      <td>20003</td>\n",
       "      <td>3.82</td>\n",
       "      <td>28.046</td>\n",
       "      <td>6.366750e+10</td>\n",
       "      <td>camera-screenshot202200031500275247.png</td>\n",
       "      <td>background1500275180.601.png</td>\n",
       "    </tr>\n",
       "    <tr>\n",
       "      <th>4</th>\n",
       "      <td>6</td>\n",
       "      <td>6</td>\n",
       "      <td>7/17/17 8:08</td>\n",
       "      <td>202.0</td>\n",
       "      <td>20004</td>\n",
       "      <td>1.08</td>\n",
       "      <td>48.043</td>\n",
       "      <td>6.366750e+10</td>\n",
       "      <td>camera-screenshot202200041500275315.png</td>\n",
       "      <td>background1500275357.372.png</td>\n",
       "    </tr>\n",
       "    <tr>\n",
       "      <th>...</th>\n",
       "      <td>...</td>\n",
       "      <td>...</td>\n",
       "      <td>...</td>\n",
       "      <td>...</td>\n",
       "      <td>...</td>\n",
       "      <td>...</td>\n",
       "      <td>...</td>\n",
       "      <td>...</td>\n",
       "      <td>...</td>\n",
       "      <td>...</td>\n",
       "    </tr>\n",
       "    <tr>\n",
       "      <th>6927</th>\n",
       "      <td>8664</td>\n",
       "      <td>8664</td>\n",
       "      <td>NaN</td>\n",
       "      <td>NaN</td>\n",
       "      <td>20002</td>\n",
       "      <td>7.42</td>\n",
       "      <td>NaN</td>\n",
       "      <td>NaN</td>\n",
       "      <td>augmented_image_93.png</td>\n",
       "      <td>NaN</td>\n",
       "    </tr>\n",
       "    <tr>\n",
       "      <th>6928</th>\n",
       "      <td>8665</td>\n",
       "      <td>8665</td>\n",
       "      <td>NaN</td>\n",
       "      <td>NaN</td>\n",
       "      <td>20002</td>\n",
       "      <td>10.80</td>\n",
       "      <td>NaN</td>\n",
       "      <td>NaN</td>\n",
       "      <td>augmented_image_94.png</td>\n",
       "      <td>NaN</td>\n",
       "    </tr>\n",
       "    <tr>\n",
       "      <th>6929</th>\n",
       "      <td>8666</td>\n",
       "      <td>8666</td>\n",
       "      <td>NaN</td>\n",
       "      <td>NaN</td>\n",
       "      <td>20002</td>\n",
       "      <td>8.96</td>\n",
       "      <td>NaN</td>\n",
       "      <td>NaN</td>\n",
       "      <td>augmented_image_95.png</td>\n",
       "      <td>NaN</td>\n",
       "    </tr>\n",
       "    <tr>\n",
       "      <th>6930</th>\n",
       "      <td>8668</td>\n",
       "      <td>8668</td>\n",
       "      <td>NaN</td>\n",
       "      <td>NaN</td>\n",
       "      <td>20002</td>\n",
       "      <td>8.58</td>\n",
       "      <td>NaN</td>\n",
       "      <td>NaN</td>\n",
       "      <td>augmented_image_97.png</td>\n",
       "      <td>NaN</td>\n",
       "    </tr>\n",
       "    <tr>\n",
       "      <th>6931</th>\n",
       "      <td>8669</td>\n",
       "      <td>8669</td>\n",
       "      <td>NaN</td>\n",
       "      <td>NaN</td>\n",
       "      <td>20002</td>\n",
       "      <td>9.38</td>\n",
       "      <td>NaN</td>\n",
       "      <td>NaN</td>\n",
       "      <td>augmented_image_98.png</td>\n",
       "      <td>NaN</td>\n",
       "    </tr>\n",
       "  </tbody>\n",
       "</table>\n",
       "<p>6932 rows × 10 columns</p>\n",
       "</div>"
      ],
      "text/plain": [
       "      Unnamed: 0  level_0 DateTimeRecorded  PlantID  ProductID  Weight  \\\n",
       "0              2        2     7/17/17 8:06    202.0      20004    1.18   \n",
       "1              3        3     7/17/17 8:07    202.0      20003    4.48   \n",
       "2              4        4     7/17/17 8:07    202.0      20004    1.08   \n",
       "3              5        5     7/17/17 8:07    202.0      20003    3.82   \n",
       "4              6        6     7/17/17 8:08    202.0      20004    1.08   \n",
       "...          ...      ...              ...      ...        ...     ...   \n",
       "6927        8664     8664              NaN      NaN      20002    7.42   \n",
       "6928        8665     8665              NaN      NaN      20002   10.80   \n",
       "6929        8666     8666              NaN      NaN      20002    8.96   \n",
       "6930        8668     8668              NaN      NaN      20002    8.58   \n",
       "6931        8669     8669              NaN      NaN      20002    9.38   \n",
       "\n",
       "      TotEOLWeightSpec1  EOLBatchStart  \\\n",
       "0                25.185   6.366750e+10   \n",
       "1                19.364   6.366750e+10   \n",
       "2                36.614   6.366750e+10   \n",
       "3                28.046   6.366750e+10   \n",
       "4                48.043   6.366750e+10   \n",
       "...                 ...            ...   \n",
       "6927                NaN            NaN   \n",
       "6928                NaN            NaN   \n",
       "6929                NaN            NaN   \n",
       "6930                NaN            NaN   \n",
       "6931                NaN            NaN   \n",
       "\n",
       "                                   filename_x                    filename_y  \n",
       "0     camera-screenshot202200041500275215.png  background1500275180.601.png  \n",
       "1     camera-screenshot202200031500275226.png  background1500275180.601.png  \n",
       "2     camera-screenshot202200041500275242.png  background1500275180.601.png  \n",
       "3     camera-screenshot202200031500275247.png  background1500275180.601.png  \n",
       "4     camera-screenshot202200041500275315.png  background1500275357.372.png  \n",
       "...                                       ...                           ...  \n",
       "6927                   augmented_image_93.png                           NaN  \n",
       "6928                   augmented_image_94.png                           NaN  \n",
       "6929                   augmented_image_95.png                           NaN  \n",
       "6930                   augmented_image_97.png                           NaN  \n",
       "6931                   augmented_image_98.png                           NaN  \n",
       "\n",
       "[6932 rows x 10 columns]"
      ]
     },
     "execution_count": 3,
     "metadata": {},
     "output_type": "execute_result"
    }
   ],
   "source": [
    "raw_data_train"
   ]
  },
  {
   "cell_type": "code",
   "execution_count": 4,
   "metadata": {},
   "outputs": [],
   "source": [
    "raw_copy_train = raw_data_train[[\"ProductID\",\"filename_x\"]]\n",
    "raw_copy_test = raw_data_test[[\"ProductID\",\"filename_x\"]]"
   ]
  },
  {
   "cell_type": "code",
   "execution_count": 5,
   "metadata": {},
   "outputs": [
    {
     "data": {
      "text/plain": [
       "array(['camera-screenshot202200041500275215.png',\n",
       "       'camera-screenshot202200031500275226.png',\n",
       "       'camera-screenshot202200041500275242.png', ...,\n",
       "       'augmented_image_95.png', 'augmented_image_97.png',\n",
       "       'augmented_image_98.png'], dtype=object)"
      ]
     },
     "execution_count": 5,
     "metadata": {},
     "output_type": "execute_result"
    }
   ],
   "source": [
    "product_names_train = raw_copy_train[\"filename_x\"].unique()\n",
    "product_names_train"
   ]
  },
  {
   "cell_type": "code",
   "execution_count": 6,
   "metadata": {},
   "outputs": [
    {
     "data": {
      "text/plain": [
       "array(['camera-screenshot202200041500275178.png',\n",
       "       'camera-screenshot202200031500275183.png',\n",
       "       'camera-screenshot202200041500275343.png', ...,\n",
       "       'augmented_image_92.png', 'augmented_image_96.png',\n",
       "       'augmented_image_99.png'], dtype=object)"
      ]
     },
     "execution_count": 6,
     "metadata": {},
     "output_type": "execute_result"
    }
   ],
   "source": [
    "product_names_test = raw_copy_test[\"filename_x\"].unique()\n",
    "product_names_test"
   ]
  },
  {
   "cell_type": "code",
   "execution_count": 7,
   "metadata": {},
   "outputs": [],
   "source": [
    "products_train = raw_copy_train[\"ProductID\"]\n",
    "encoder=ce.OneHotEncoder(cols='ProductID',handle_unknown='return_nan',return_df=True,use_cat_names=True)"
   ]
  },
  {
   "cell_type": "code",
   "execution_count": 8,
   "metadata": {},
   "outputs": [
    {
     "data": {
      "text/plain": [
       "20010    2289\n",
       "20003    1825\n",
       "20004    1793\n",
       "20001     905\n",
       "20002     120\n",
       "Name: ProductID, dtype: int64"
      ]
     },
     "execution_count": 8,
     "metadata": {},
     "output_type": "execute_result"
    }
   ],
   "source": [
    "products_train.value_counts()"
   ]
  },
  {
   "cell_type": "code",
   "execution_count": 9,
   "metadata": {},
   "outputs": [
    {
     "name": "stderr",
     "output_type": "stream",
     "text": [
      "C:\\Users\\Lenovo\\anaconda3\\lib\\site-packages\\category_encoders\\utils.py:21: FutureWarning: is_categorical is deprecated and will be removed in a future version.  Use is_categorical_dtype instead\n",
      "  elif pd.api.types.is_categorical(cols):\n"
     ]
    },
    {
     "data": {
      "text/html": [
       "<div>\n",
       "<style scoped>\n",
       "    .dataframe tbody tr th:only-of-type {\n",
       "        vertical-align: middle;\n",
       "    }\n",
       "\n",
       "    .dataframe tbody tr th {\n",
       "        vertical-align: top;\n",
       "    }\n",
       "\n",
       "    .dataframe thead th {\n",
       "        text-align: right;\n",
       "    }\n",
       "</style>\n",
       "<table border=\"1\" class=\"dataframe\">\n",
       "  <thead>\n",
       "    <tr style=\"text-align: right;\">\n",
       "      <th></th>\n",
       "      <th>ProductID_20004.0</th>\n",
       "      <th>ProductID_20003.0</th>\n",
       "      <th>ProductID_20002.0</th>\n",
       "      <th>ProductID_20001.0</th>\n",
       "      <th>ProductID_20010.0</th>\n",
       "    </tr>\n",
       "  </thead>\n",
       "  <tbody>\n",
       "    <tr>\n",
       "      <th>0</th>\n",
       "      <td>1.0</td>\n",
       "      <td>0.0</td>\n",
       "      <td>0.0</td>\n",
       "      <td>0.0</td>\n",
       "      <td>0.0</td>\n",
       "    </tr>\n",
       "    <tr>\n",
       "      <th>1</th>\n",
       "      <td>0.0</td>\n",
       "      <td>1.0</td>\n",
       "      <td>0.0</td>\n",
       "      <td>0.0</td>\n",
       "      <td>0.0</td>\n",
       "    </tr>\n",
       "    <tr>\n",
       "      <th>2</th>\n",
       "      <td>1.0</td>\n",
       "      <td>0.0</td>\n",
       "      <td>0.0</td>\n",
       "      <td>0.0</td>\n",
       "      <td>0.0</td>\n",
       "    </tr>\n",
       "    <tr>\n",
       "      <th>3</th>\n",
       "      <td>0.0</td>\n",
       "      <td>1.0</td>\n",
       "      <td>0.0</td>\n",
       "      <td>0.0</td>\n",
       "      <td>0.0</td>\n",
       "    </tr>\n",
       "    <tr>\n",
       "      <th>4</th>\n",
       "      <td>1.0</td>\n",
       "      <td>0.0</td>\n",
       "      <td>0.0</td>\n",
       "      <td>0.0</td>\n",
       "      <td>0.0</td>\n",
       "    </tr>\n",
       "    <tr>\n",
       "      <th>...</th>\n",
       "      <td>...</td>\n",
       "      <td>...</td>\n",
       "      <td>...</td>\n",
       "      <td>...</td>\n",
       "      <td>...</td>\n",
       "    </tr>\n",
       "    <tr>\n",
       "      <th>6927</th>\n",
       "      <td>0.0</td>\n",
       "      <td>0.0</td>\n",
       "      <td>1.0</td>\n",
       "      <td>0.0</td>\n",
       "      <td>0.0</td>\n",
       "    </tr>\n",
       "    <tr>\n",
       "      <th>6928</th>\n",
       "      <td>0.0</td>\n",
       "      <td>0.0</td>\n",
       "      <td>1.0</td>\n",
       "      <td>0.0</td>\n",
       "      <td>0.0</td>\n",
       "    </tr>\n",
       "    <tr>\n",
       "      <th>6929</th>\n",
       "      <td>0.0</td>\n",
       "      <td>0.0</td>\n",
       "      <td>1.0</td>\n",
       "      <td>0.0</td>\n",
       "      <td>0.0</td>\n",
       "    </tr>\n",
       "    <tr>\n",
       "      <th>6930</th>\n",
       "      <td>0.0</td>\n",
       "      <td>0.0</td>\n",
       "      <td>1.0</td>\n",
       "      <td>0.0</td>\n",
       "      <td>0.0</td>\n",
       "    </tr>\n",
       "    <tr>\n",
       "      <th>6931</th>\n",
       "      <td>0.0</td>\n",
       "      <td>0.0</td>\n",
       "      <td>1.0</td>\n",
       "      <td>0.0</td>\n",
       "      <td>0.0</td>\n",
       "    </tr>\n",
       "  </tbody>\n",
       "</table>\n",
       "<p>6932 rows × 5 columns</p>\n",
       "</div>"
      ],
      "text/plain": [
       "      ProductID_20004.0  ProductID_20003.0  ProductID_20002.0  \\\n",
       "0                   1.0                0.0                0.0   \n",
       "1                   0.0                1.0                0.0   \n",
       "2                   1.0                0.0                0.0   \n",
       "3                   0.0                1.0                0.0   \n",
       "4                   1.0                0.0                0.0   \n",
       "...                 ...                ...                ...   \n",
       "6927                0.0                0.0                1.0   \n",
       "6928                0.0                0.0                1.0   \n",
       "6929                0.0                0.0                1.0   \n",
       "6930                0.0                0.0                1.0   \n",
       "6931                0.0                0.0                1.0   \n",
       "\n",
       "      ProductID_20001.0  ProductID_20010.0  \n",
       "0                   0.0                0.0  \n",
       "1                   0.0                0.0  \n",
       "2                   0.0                0.0  \n",
       "3                   0.0                0.0  \n",
       "4                   0.0                0.0  \n",
       "...                 ...                ...  \n",
       "6927                0.0                0.0  \n",
       "6928                0.0                0.0  \n",
       "6929                0.0                0.0  \n",
       "6930                0.0                0.0  \n",
       "6931                0.0                0.0  \n",
       "\n",
       "[6932 rows x 5 columns]"
      ]
     },
     "execution_count": 9,
     "metadata": {},
     "output_type": "execute_result"
    }
   ],
   "source": [
    "train_encoded = encoder.fit_transform(products_train)\n",
    "train_encoded"
   ]
  },
  {
   "cell_type": "code",
   "execution_count": 10,
   "metadata": {},
   "outputs": [],
   "source": [
    "products_test = raw_copy_test[\"ProductID\"]\n",
    "encoder=ce.OneHotEncoder(cols='ProductID',handle_unknown='return_nan',return_df=True,use_cat_names=True)"
   ]
  },
  {
   "cell_type": "code",
   "execution_count": 11,
   "metadata": {},
   "outputs": [
    {
     "data": {
      "text/plain": [
       "20010    574\n",
       "20003    458\n",
       "20004    448\n",
       "20001    228\n",
       "20002     31\n",
       "Name: ProductID, dtype: int64"
      ]
     },
     "execution_count": 11,
     "metadata": {},
     "output_type": "execute_result"
    }
   ],
   "source": [
    "products_test.value_counts()"
   ]
  },
  {
   "cell_type": "code",
   "execution_count": 12,
   "metadata": {},
   "outputs": [
    {
     "name": "stderr",
     "output_type": "stream",
     "text": [
      "C:\\Users\\Lenovo\\anaconda3\\lib\\site-packages\\category_encoders\\utils.py:21: FutureWarning: is_categorical is deprecated and will be removed in a future version.  Use is_categorical_dtype instead\n",
      "  elif pd.api.types.is_categorical(cols):\n"
     ]
    },
    {
     "data": {
      "text/html": [
       "<div>\n",
       "<style scoped>\n",
       "    .dataframe tbody tr th:only-of-type {\n",
       "        vertical-align: middle;\n",
       "    }\n",
       "\n",
       "    .dataframe tbody tr th {\n",
       "        vertical-align: top;\n",
       "    }\n",
       "\n",
       "    .dataframe thead th {\n",
       "        text-align: right;\n",
       "    }\n",
       "</style>\n",
       "<table border=\"1\" class=\"dataframe\">\n",
       "  <thead>\n",
       "    <tr style=\"text-align: right;\">\n",
       "      <th></th>\n",
       "      <th>ProductID_20004.0</th>\n",
       "      <th>ProductID_20003.0</th>\n",
       "      <th>ProductID_20002.0</th>\n",
       "      <th>ProductID_20001.0</th>\n",
       "      <th>ProductID_20010.0</th>\n",
       "    </tr>\n",
       "  </thead>\n",
       "  <tbody>\n",
       "    <tr>\n",
       "      <th>0</th>\n",
       "      <td>1.0</td>\n",
       "      <td>0.0</td>\n",
       "      <td>0.0</td>\n",
       "      <td>0.0</td>\n",
       "      <td>0.0</td>\n",
       "    </tr>\n",
       "    <tr>\n",
       "      <th>1</th>\n",
       "      <td>0.0</td>\n",
       "      <td>1.0</td>\n",
       "      <td>0.0</td>\n",
       "      <td>0.0</td>\n",
       "      <td>0.0</td>\n",
       "    </tr>\n",
       "    <tr>\n",
       "      <th>2</th>\n",
       "      <td>1.0</td>\n",
       "      <td>0.0</td>\n",
       "      <td>0.0</td>\n",
       "      <td>0.0</td>\n",
       "      <td>0.0</td>\n",
       "    </tr>\n",
       "    <tr>\n",
       "      <th>3</th>\n",
       "      <td>0.0</td>\n",
       "      <td>1.0</td>\n",
       "      <td>0.0</td>\n",
       "      <td>0.0</td>\n",
       "      <td>0.0</td>\n",
       "    </tr>\n",
       "    <tr>\n",
       "      <th>4</th>\n",
       "      <td>1.0</td>\n",
       "      <td>0.0</td>\n",
       "      <td>0.0</td>\n",
       "      <td>0.0</td>\n",
       "      <td>0.0</td>\n",
       "    </tr>\n",
       "    <tr>\n",
       "      <th>...</th>\n",
       "      <td>...</td>\n",
       "      <td>...</td>\n",
       "      <td>...</td>\n",
       "      <td>...</td>\n",
       "      <td>...</td>\n",
       "    </tr>\n",
       "    <tr>\n",
       "      <th>1734</th>\n",
       "      <td>0.0</td>\n",
       "      <td>0.0</td>\n",
       "      <td>1.0</td>\n",
       "      <td>0.0</td>\n",
       "      <td>0.0</td>\n",
       "    </tr>\n",
       "    <tr>\n",
       "      <th>1735</th>\n",
       "      <td>0.0</td>\n",
       "      <td>0.0</td>\n",
       "      <td>1.0</td>\n",
       "      <td>0.0</td>\n",
       "      <td>0.0</td>\n",
       "    </tr>\n",
       "    <tr>\n",
       "      <th>1736</th>\n",
       "      <td>0.0</td>\n",
       "      <td>0.0</td>\n",
       "      <td>1.0</td>\n",
       "      <td>0.0</td>\n",
       "      <td>0.0</td>\n",
       "    </tr>\n",
       "    <tr>\n",
       "      <th>1737</th>\n",
       "      <td>0.0</td>\n",
       "      <td>0.0</td>\n",
       "      <td>1.0</td>\n",
       "      <td>0.0</td>\n",
       "      <td>0.0</td>\n",
       "    </tr>\n",
       "    <tr>\n",
       "      <th>1738</th>\n",
       "      <td>0.0</td>\n",
       "      <td>0.0</td>\n",
       "      <td>1.0</td>\n",
       "      <td>0.0</td>\n",
       "      <td>0.0</td>\n",
       "    </tr>\n",
       "  </tbody>\n",
       "</table>\n",
       "<p>1739 rows × 5 columns</p>\n",
       "</div>"
      ],
      "text/plain": [
       "      ProductID_20004.0  ProductID_20003.0  ProductID_20002.0  \\\n",
       "0                   1.0                0.0                0.0   \n",
       "1                   0.0                1.0                0.0   \n",
       "2                   1.0                0.0                0.0   \n",
       "3                   0.0                1.0                0.0   \n",
       "4                   1.0                0.0                0.0   \n",
       "...                 ...                ...                ...   \n",
       "1734                0.0                0.0                1.0   \n",
       "1735                0.0                0.0                1.0   \n",
       "1736                0.0                0.0                1.0   \n",
       "1737                0.0                0.0                1.0   \n",
       "1738                0.0                0.0                1.0   \n",
       "\n",
       "      ProductID_20001.0  ProductID_20010.0  \n",
       "0                   0.0                0.0  \n",
       "1                   0.0                0.0  \n",
       "2                   0.0                0.0  \n",
       "3                   0.0                0.0  \n",
       "4                   0.0                0.0  \n",
       "...                 ...                ...  \n",
       "1734                0.0                0.0  \n",
       "1735                0.0                0.0  \n",
       "1736                0.0                0.0  \n",
       "1737                0.0                0.0  \n",
       "1738                0.0                0.0  \n",
       "\n",
       "[1739 rows x 5 columns]"
      ]
     },
     "execution_count": 12,
     "metadata": {},
     "output_type": "execute_result"
    }
   ],
   "source": [
    "test_encoded = encoder.fit_transform(products_test)\n",
    "test_encoded"
   ]
  },
  {
   "cell_type": "code",
   "execution_count": 13,
   "metadata": {},
   "outputs": [],
   "source": [
    "train_weights = raw_data_train[[\"Weight\",\"ProductID\",\"level_0\"]]"
   ]
  },
  {
   "cell_type": "code",
   "execution_count": 14,
   "metadata": {},
   "outputs": [],
   "source": [
    "train_weights_sorted = train_weights.pivot(index='level_0',columns = 'ProductID', values='Weight')"
   ]
  },
  {
   "cell_type": "code",
   "execution_count": 15,
   "metadata": {},
   "outputs": [],
   "source": [
    "weights_train = train_weights_sorted.fillna(0)"
   ]
  },
  {
   "cell_type": "code",
   "execution_count": 16,
   "metadata": {},
   "outputs": [
    {
     "data": {
      "text/html": [
       "<div>\n",
       "<style scoped>\n",
       "    .dataframe tbody tr th:only-of-type {\n",
       "        vertical-align: middle;\n",
       "    }\n",
       "\n",
       "    .dataframe tbody tr th {\n",
       "        vertical-align: top;\n",
       "    }\n",
       "\n",
       "    .dataframe thead th {\n",
       "        text-align: right;\n",
       "    }\n",
       "</style>\n",
       "<table border=\"1\" class=\"dataframe\">\n",
       "  <thead>\n",
       "    <tr style=\"text-align: right;\">\n",
       "      <th>ProductID</th>\n",
       "      <th>20001</th>\n",
       "      <th>20002</th>\n",
       "      <th>20003</th>\n",
       "      <th>20004</th>\n",
       "      <th>20010</th>\n",
       "    </tr>\n",
       "    <tr>\n",
       "      <th>level_0</th>\n",
       "      <th></th>\n",
       "      <th></th>\n",
       "      <th></th>\n",
       "      <th></th>\n",
       "      <th></th>\n",
       "    </tr>\n",
       "  </thead>\n",
       "  <tbody>\n",
       "    <tr>\n",
       "      <th>2</th>\n",
       "      <td>0.0</td>\n",
       "      <td>0.00</td>\n",
       "      <td>0.00</td>\n",
       "      <td>1.18</td>\n",
       "      <td>0.0</td>\n",
       "    </tr>\n",
       "    <tr>\n",
       "      <th>3</th>\n",
       "      <td>0.0</td>\n",
       "      <td>0.00</td>\n",
       "      <td>4.48</td>\n",
       "      <td>0.00</td>\n",
       "      <td>0.0</td>\n",
       "    </tr>\n",
       "    <tr>\n",
       "      <th>4</th>\n",
       "      <td>0.0</td>\n",
       "      <td>0.00</td>\n",
       "      <td>0.00</td>\n",
       "      <td>1.08</td>\n",
       "      <td>0.0</td>\n",
       "    </tr>\n",
       "    <tr>\n",
       "      <th>5</th>\n",
       "      <td>0.0</td>\n",
       "      <td>0.00</td>\n",
       "      <td>3.82</td>\n",
       "      <td>0.00</td>\n",
       "      <td>0.0</td>\n",
       "    </tr>\n",
       "    <tr>\n",
       "      <th>6</th>\n",
       "      <td>0.0</td>\n",
       "      <td>0.00</td>\n",
       "      <td>0.00</td>\n",
       "      <td>1.08</td>\n",
       "      <td>0.0</td>\n",
       "    </tr>\n",
       "    <tr>\n",
       "      <th>...</th>\n",
       "      <td>...</td>\n",
       "      <td>...</td>\n",
       "      <td>...</td>\n",
       "      <td>...</td>\n",
       "      <td>...</td>\n",
       "    </tr>\n",
       "    <tr>\n",
       "      <th>8664</th>\n",
       "      <td>0.0</td>\n",
       "      <td>7.42</td>\n",
       "      <td>0.00</td>\n",
       "      <td>0.00</td>\n",
       "      <td>0.0</td>\n",
       "    </tr>\n",
       "    <tr>\n",
       "      <th>8665</th>\n",
       "      <td>0.0</td>\n",
       "      <td>10.80</td>\n",
       "      <td>0.00</td>\n",
       "      <td>0.00</td>\n",
       "      <td>0.0</td>\n",
       "    </tr>\n",
       "    <tr>\n",
       "      <th>8666</th>\n",
       "      <td>0.0</td>\n",
       "      <td>8.96</td>\n",
       "      <td>0.00</td>\n",
       "      <td>0.00</td>\n",
       "      <td>0.0</td>\n",
       "    </tr>\n",
       "    <tr>\n",
       "      <th>8668</th>\n",
       "      <td>0.0</td>\n",
       "      <td>8.58</td>\n",
       "      <td>0.00</td>\n",
       "      <td>0.00</td>\n",
       "      <td>0.0</td>\n",
       "    </tr>\n",
       "    <tr>\n",
       "      <th>8669</th>\n",
       "      <td>0.0</td>\n",
       "      <td>9.38</td>\n",
       "      <td>0.00</td>\n",
       "      <td>0.00</td>\n",
       "      <td>0.0</td>\n",
       "    </tr>\n",
       "  </tbody>\n",
       "</table>\n",
       "<p>6932 rows × 5 columns</p>\n",
       "</div>"
      ],
      "text/plain": [
       "ProductID  20001  20002  20003  20004  20010\n",
       "level_0                                     \n",
       "2            0.0   0.00   0.00   1.18    0.0\n",
       "3            0.0   0.00   4.48   0.00    0.0\n",
       "4            0.0   0.00   0.00   1.08    0.0\n",
       "5            0.0   0.00   3.82   0.00    0.0\n",
       "6            0.0   0.00   0.00   1.08    0.0\n",
       "...          ...    ...    ...    ...    ...\n",
       "8664         0.0   7.42   0.00   0.00    0.0\n",
       "8665         0.0  10.80   0.00   0.00    0.0\n",
       "8666         0.0   8.96   0.00   0.00    0.0\n",
       "8668         0.0   8.58   0.00   0.00    0.0\n",
       "8669         0.0   9.38   0.00   0.00    0.0\n",
       "\n",
       "[6932 rows x 5 columns]"
      ]
     },
     "execution_count": 16,
     "metadata": {},
     "output_type": "execute_result"
    }
   ],
   "source": [
    "weights_train"
   ]
  },
  {
   "cell_type": "code",
   "execution_count": 17,
   "metadata": {},
   "outputs": [],
   "source": [
    "test_weights = raw_data_test[[\"Weight\",\"ProductID\",\"level_0\"]]"
   ]
  },
  {
   "cell_type": "code",
   "execution_count": 18,
   "metadata": {},
   "outputs": [],
   "source": [
    "test_weights_sorted = test_weights.pivot(index='level_0',columns = 'ProductID', values='Weight')"
   ]
  },
  {
   "cell_type": "code",
   "execution_count": 19,
   "metadata": {},
   "outputs": [
    {
     "data": {
      "text/html": [
       "<div>\n",
       "<style scoped>\n",
       "    .dataframe tbody tr th:only-of-type {\n",
       "        vertical-align: middle;\n",
       "    }\n",
       "\n",
       "    .dataframe tbody tr th {\n",
       "        vertical-align: top;\n",
       "    }\n",
       "\n",
       "    .dataframe thead th {\n",
       "        text-align: right;\n",
       "    }\n",
       "</style>\n",
       "<table border=\"1\" class=\"dataframe\">\n",
       "  <thead>\n",
       "    <tr style=\"text-align: right;\">\n",
       "      <th>ProductID</th>\n",
       "      <th>20001</th>\n",
       "      <th>20002</th>\n",
       "      <th>20003</th>\n",
       "      <th>20004</th>\n",
       "      <th>20010</th>\n",
       "    </tr>\n",
       "    <tr>\n",
       "      <th>level_0</th>\n",
       "      <th></th>\n",
       "      <th></th>\n",
       "      <th></th>\n",
       "      <th></th>\n",
       "      <th></th>\n",
       "    </tr>\n",
       "  </thead>\n",
       "  <tbody>\n",
       "    <tr>\n",
       "      <th>0</th>\n",
       "      <td>0.0</td>\n",
       "      <td>0.00</td>\n",
       "      <td>0.00</td>\n",
       "      <td>1.20</td>\n",
       "      <td>0.0</td>\n",
       "    </tr>\n",
       "    <tr>\n",
       "      <th>1</th>\n",
       "      <td>0.0</td>\n",
       "      <td>0.00</td>\n",
       "      <td>4.04</td>\n",
       "      <td>0.00</td>\n",
       "      <td>0.0</td>\n",
       "    </tr>\n",
       "    <tr>\n",
       "      <th>8</th>\n",
       "      <td>0.0</td>\n",
       "      <td>0.00</td>\n",
       "      <td>0.00</td>\n",
       "      <td>1.44</td>\n",
       "      <td>0.0</td>\n",
       "    </tr>\n",
       "    <tr>\n",
       "      <th>9</th>\n",
       "      <td>0.0</td>\n",
       "      <td>0.00</td>\n",
       "      <td>4.70</td>\n",
       "      <td>0.00</td>\n",
       "      <td>0.0</td>\n",
       "    </tr>\n",
       "    <tr>\n",
       "      <th>22</th>\n",
       "      <td>0.0</td>\n",
       "      <td>0.00</td>\n",
       "      <td>0.00</td>\n",
       "      <td>1.06</td>\n",
       "      <td>0.0</td>\n",
       "    </tr>\n",
       "    <tr>\n",
       "      <th>...</th>\n",
       "      <td>...</td>\n",
       "      <td>...</td>\n",
       "      <td>...</td>\n",
       "      <td>...</td>\n",
       "      <td>...</td>\n",
       "    </tr>\n",
       "    <tr>\n",
       "      <th>8651</th>\n",
       "      <td>0.0</td>\n",
       "      <td>10.80</td>\n",
       "      <td>0.00</td>\n",
       "      <td>0.00</td>\n",
       "      <td>0.0</td>\n",
       "    </tr>\n",
       "    <tr>\n",
       "      <th>8656</th>\n",
       "      <td>0.0</td>\n",
       "      <td>8.30</td>\n",
       "      <td>0.00</td>\n",
       "      <td>0.00</td>\n",
       "      <td>0.0</td>\n",
       "    </tr>\n",
       "    <tr>\n",
       "      <th>8663</th>\n",
       "      <td>0.0</td>\n",
       "      <td>8.80</td>\n",
       "      <td>0.00</td>\n",
       "      <td>0.00</td>\n",
       "      <td>0.0</td>\n",
       "    </tr>\n",
       "    <tr>\n",
       "      <th>8667</th>\n",
       "      <td>0.0</td>\n",
       "      <td>9.54</td>\n",
       "      <td>0.00</td>\n",
       "      <td>0.00</td>\n",
       "      <td>0.0</td>\n",
       "    </tr>\n",
       "    <tr>\n",
       "      <th>8670</th>\n",
       "      <td>0.0</td>\n",
       "      <td>8.30</td>\n",
       "      <td>0.00</td>\n",
       "      <td>0.00</td>\n",
       "      <td>0.0</td>\n",
       "    </tr>\n",
       "  </tbody>\n",
       "</table>\n",
       "<p>1739 rows × 5 columns</p>\n",
       "</div>"
      ],
      "text/plain": [
       "ProductID  20001  20002  20003  20004  20010\n",
       "level_0                                     \n",
       "0            0.0   0.00   0.00   1.20    0.0\n",
       "1            0.0   0.00   4.04   0.00    0.0\n",
       "8            0.0   0.00   0.00   1.44    0.0\n",
       "9            0.0   0.00   4.70   0.00    0.0\n",
       "22           0.0   0.00   0.00   1.06    0.0\n",
       "...          ...    ...    ...    ...    ...\n",
       "8651         0.0  10.80   0.00   0.00    0.0\n",
       "8656         0.0   8.30   0.00   0.00    0.0\n",
       "8663         0.0   8.80   0.00   0.00    0.0\n",
       "8667         0.0   9.54   0.00   0.00    0.0\n",
       "8670         0.0   8.30   0.00   0.00    0.0\n",
       "\n",
       "[1739 rows x 5 columns]"
      ]
     },
     "execution_count": 19,
     "metadata": {},
     "output_type": "execute_result"
    }
   ],
   "source": [
    "weights_test = test_weights_sorted.fillna(0)\n",
    "weights_test"
   ]
  },
  {
   "cell_type": "code",
   "execution_count": 20,
   "metadata": {},
   "outputs": [],
   "source": [
    "def read_img(img_id, train, size):\n",
    "   \n",
    "    img = image.load_img(join(\"OneDrive/output_datasets/shrink_train_test_data\" , train, '%s' % img_id), target_size=size)\n",
    "    img = image.img_to_array(img)\n",
    "    return img"
   ]
  },
  {
   "cell_type": "code",
   "execution_count": 21,
   "metadata": {},
   "outputs": [
    {
     "name": "stderr",
     "output_type": "stream",
     "text": [
      "C:\\Users\\Lenovo\\anaconda3\\lib\\site-packages\\numpy\\lib\\arraysetops.py:583: FutureWarning: elementwise comparison failed; returning scalar instead, but in the future will perform elementwise comparison\n",
      "  mask |= (ar1 == a)\n",
      "100%|██████████| 6932/6932 [00:05<00:00, 1169.73it/s]"
     ]
    },
    {
     "name": "stdout",
     "output_type": "stream",
     "text": [
      "Training Images Shape: (6932, 112, 112, 3) size: 260,865,024\n"
     ]
    },
    {
     "name": "stderr",
     "output_type": "stream",
     "text": [
      "\n"
     ]
    }
   ],
   "source": [
    "IMG_SIZE = 112\n",
    "\n",
    "X_all = np.zeros((len(raw_copy_train), IMG_SIZE, IMG_SIZE, 3), dtype='float32')\n",
    "Y_all = label_binarize(raw_copy_train[\"ProductID\"], classes = product_names_train)\n",
    "\n",
    "for i in tqdm(range(len(raw_copy_train))):\n",
    "    img = read_img(raw_copy_train['filename_x'][i],'train', (IMG_SIZE, IMG_SIZE))\n",
    "    x = np.expand_dims(img.copy(), axis=0)\n",
    "    X_all[i] = x / 255.0\n",
    "    \n",
    "print('Training Images Shape: {} size: {:,}'.format(X_all.shape, X_all.size))"
   ]
  },
  {
   "cell_type": "code",
   "execution_count": 22,
   "metadata": {},
   "outputs": [],
   "source": [
    "def read_img(img_id, test, size):\n",
    "   \n",
    "    img = image.load_img(join(\"OneDrive/output_datasets/shrink_train_test_data\" , test, '%s' % img_id), target_size=size)\n",
    "    img = image.img_to_array(img)\n",
    "    return img"
   ]
  },
  {
   "cell_type": "code",
   "execution_count": 23,
   "metadata": {},
   "outputs": [
    {
     "name": "stderr",
     "output_type": "stream",
     "text": [
      "C:\\Users\\Lenovo\\anaconda3\\lib\\site-packages\\numpy\\lib\\arraysetops.py:583: FutureWarning: elementwise comparison failed; returning scalar instead, but in the future will perform elementwise comparison\n",
      "  mask |= (ar1 == a)\n",
      "100%|██████████| 1739/1739 [00:01<00:00, 1179.60it/s]"
     ]
    },
    {
     "name": "stdout",
     "output_type": "stream",
     "text": [
      "Test Images Shape: (1739, 112, 112, 3) size: 65,442,048\n"
     ]
    },
    {
     "name": "stderr",
     "output_type": "stream",
     "text": [
      "\n"
     ]
    }
   ],
   "source": [
    "IMG_SIZE = 112\n",
    "\n",
    "A_all = np.zeros((len(raw_copy_test), IMG_SIZE, IMG_SIZE, 3), dtype='float32')\n",
    "B_all = label_binarize(raw_copy_test[\"ProductID\"], classes = product_names_test)\n",
    "\n",
    "for i in tqdm(range(len(raw_copy_test))):\n",
    "    img = read_img(raw_copy_test['filename_x'][i],'test', (IMG_SIZE, IMG_SIZE))\n",
    "    a = np.expand_dims(img.copy(), axis=0)\n",
    "    A_all[i] = a / 255.0\n",
    "    \n",
    "print('Test Images Shape: {} size: {:,}'.format(A_all.shape, A_all.size))"
   ]
  },
  {
   "cell_type": "code",
   "execution_count": 24,
   "metadata": {},
   "outputs": [
    {
     "name": "stdout",
     "output_type": "stream",
     "text": [
      "Training data shape :  (6932, 112, 112, 3) (6932,)\n",
      "Total number of outputs :  5\n",
      "Output classes :  [20001 20002 20003 20004 20010]\n"
     ]
    },
    {
     "data": {
      "text/plain": [
       "<matplotlib.image.AxesImage at 0x1a8acd13eb0>"
      ]
     },
     "execution_count": 24,
     "metadata": {},
     "output_type": "execute_result"
    },
    {
     "data": {
      "image/png": "[encoded data removed]",
      "text/plain": [
       "<Figure size 288x144 with 1 Axes>"
      ]
     },
     "metadata": {
      "needs_background": "light"
     },
     "output_type": "display_data"
    }
   ],
   "source": [
    "print('Training data shape : ', X_all.shape,products_train.shape)\n",
    "\n",
    "\n",
    "# Find the unique numbers from the train labels\n",
    "classes = np.unique(products_train)\n",
    "nClasses = len(classes)\n",
    "print('Total number of outputs : ', nClasses)\n",
    "print('Output classes : ', classes)\n",
    "\n",
    "plt.figure(figsize=[4,2])\n",
    "\n",
    "# Display the first image in training data\n",
    "plt.subplot(121)\n",
    "plt.imshow(X_all[0,:,:], cmap='gray')\n",
    "\n"
   ]
  },
  {
   "cell_type": "code",
   "execution_count": 25,
   "metadata": {},
   "outputs": [
    {
     "name": "stdout",
     "output_type": "stream",
     "text": [
      "Test data shape :  (1739, 112, 112, 3) (1739,)\n",
      "Total number of outputs :  5\n",
      "Output classes :  [20001 20002 20003 20004 20010]\n"
     ]
    },
    {
     "data": {
      "text/plain": [
       "<matplotlib.image.AxesImage at 0x1a8fce1fc40>"
      ]
     },
     "execution_count": 25,
     "metadata": {},
     "output_type": "execute_result"
    },
    {
     "data": {
      "image/png": "[encoded data removed]",
      "text/plain": [
       "<Figure size 288x144 with 1 Axes>"
      ]
     },
     "metadata": {
      "needs_background": "light"
     },
     "output_type": "display_data"
    }
   ],
   "source": [
    "print('Test data shape : ', A_all.shape,products_test.shape)\n",
    "\n",
    "\n",
    "# Find the unique numbers from the train labels\n",
    "classes = np.unique(products_test)\n",
    "nClasses = len(classes)\n",
    "print('Total number of outputs : ', nClasses)\n",
    "print('Output classes : ', classes)\n",
    "\n",
    "plt.figure(figsize=[4,2])\n",
    "\n",
    "# Display the first image in training data\n",
    "plt.subplot(121)\n",
    "plt.imshow(A_all[0,:,:], cmap='gray')\n"
   ]
  },
  {
   "cell_type": "code",
   "execution_count": 26,
   "metadata": {},
   "outputs": [
    {
     "data": {
      "text/plain": [
       "(6932, 112, 112, 3)"
      ]
     },
     "execution_count": 26,
     "metadata": {},
     "output_type": "execute_result"
    }
   ],
   "source": [
    "X_all.shape"
   ]
  },
  {
   "cell_type": "code",
   "execution_count": 27,
   "metadata": {},
   "outputs": [
    {
     "data": {
      "text/plain": [
       "(1739, 112, 112, 3)"
      ]
     },
     "execution_count": 27,
     "metadata": {},
     "output_type": "execute_result"
    }
   ],
   "source": [
    "A_all.shape"
   ]
  },
  {
   "cell_type": "code",
   "execution_count": 28,
   "metadata": {},
   "outputs": [
    {
     "data": {
      "text/plain": [
       "(6932, 5)"
      ]
     },
     "execution_count": 28,
     "metadata": {},
     "output_type": "execute_result"
    }
   ],
   "source": [
    "train_encoded.shape"
   ]
  },
  {
   "cell_type": "code",
   "execution_count": 29,
   "metadata": {},
   "outputs": [
    {
     "data": {
      "text/plain": [
       "(1739, 5)"
      ]
     },
     "execution_count": 29,
     "metadata": {},
     "output_type": "execute_result"
    }
   ],
   "source": [
    "test_encoded.shape"
   ]
  },
  {
   "cell_type": "code",
   "execution_count": 30,
   "metadata": {},
   "outputs": [
    {
     "data": {
      "text/plain": [
       "(6932, 5)"
      ]
     },
     "execution_count": 30,
     "metadata": {},
     "output_type": "execute_result"
    }
   ],
   "source": [
    "weights_train.shape"
   ]
  },
  {
   "cell_type": "code",
   "execution_count": 31,
   "metadata": {},
   "outputs": [
    {
     "data": {
      "text/plain": [
       "(1739, 5)"
      ]
     },
     "execution_count": 31,
     "metadata": {},
     "output_type": "execute_result"
    }
   ],
   "source": [
    "weights_test.shape"
   ]
  },
  {
   "cell_type": "code",
   "execution_count": 32,
   "metadata": {},
   "outputs": [],
   "source": [
    "first_input = Input(shape=(IMG_SIZE, IMG_SIZE, 3))\n",
    "conv11 = Conv2D(32, (3, 3), padding='same', activation='relu')(first_input)\n",
    "conv12 = Conv2D(32, (3, 3), activation='relu')(conv11)\n",
    "pool13 = MaxPooling2D(pool_size=(2, 2))(conv12)\n",
    "dropout14 = Dropout(0.25)(pool13)\n",
    "conv15 = Conv2D(64, (3, 3), padding='same', activation='relu')(dropout14)\n",
    "conv16 = Conv2D(64, (3, 3), activation='relu')(conv15)\n",
    "pool17 = MaxPooling2D(pool_size=(2, 2))(conv16)\n",
    "dropout18 = Dropout(0.25)(pool17)\n",
    "conv19 = Conv2D(64, (3, 3), padding='same', activation='relu')(dropout18)\n",
    "conv110 = Conv2D(64, (3, 3), activation='relu')(conv19)\n",
    "pool111 = MaxPooling2D(pool_size=(2, 2))(conv110)\n",
    "dropout112 = Dropout(0.25)(pool111)\n",
    "flatten113 = Flatten()(dropout112)\n",
    "dense114 = Dense(512, activation='relu')(flatten113)\n",
    "dense115 = Dense(nClasses, activation='sigmoid')(dense114)\n",
    "\n",
    "second_input = Input(shape=(5))\n",
    "\n",
    "merge = concatenate([dense115, second_input])\n",
    "dense117 = Dense(nClasses, activation='sigmoid')(merge)\n",
    "model = Model(inputs=[first_input, second_input], outputs=dense117)"
   ]
  },
  {
   "cell_type": "code",
   "execution_count": 37,
   "metadata": {},
   "outputs": [
    {
     "name": "stdout",
     "output_type": "stream",
     "text": [
      "Model: \"model\"\n",
      "__________________________________________________________________________________________________\n",
      "Layer (type)                    Output Shape         Param #     Connected to                     \n",
      "==================================================================================================\n",
      "input_1 (InputLayer)            [(None, 112, 112, 3) 0                                            \n",
      "__________________________________________________________________________________________________\n",
      "conv2d (Conv2D)                 (None, 112, 112, 32) 896         input_1[0][0]                    \n",
      "__________________________________________________________________________________________________\n",
      "conv2d_1 (Conv2D)               (None, 110, 110, 32) 9248        conv2d[0][0]                     \n",
      "__________________________________________________________________________________________________\n",
      "max_pooling2d (MaxPooling2D)    (None, 55, 55, 32)   0           conv2d_1[0][0]                   \n",
      "__________________________________________________________________________________________________\n",
      "dropout (Dropout)               (None, 55, 55, 32)   0           max_pooling2d[0][0]              \n",
      "__________________________________________________________________________________________________\n",
      "conv2d_2 (Conv2D)               (None, 55, 55, 64)   18496       dropout[0][0]                    \n",
      "__________________________________________________________________________________________________\n",
      "conv2d_3 (Conv2D)               (None, 53, 53, 64)   36928       conv2d_2[0][0]                   \n",
      "__________________________________________________________________________________________________\n",
      "max_pooling2d_1 (MaxPooling2D)  (None, 26, 26, 64)   0           conv2d_3[0][0]                   \n",
      "__________________________________________________________________________________________________\n",
      "dropout_1 (Dropout)             (None, 26, 26, 64)   0           max_pooling2d_1[0][0]            \n",
      "__________________________________________________________________________________________________\n",
      "conv2d_4 (Conv2D)               (None, 26, 26, 64)   36928       dropout_1[0][0]                  \n",
      "__________________________________________________________________________________________________\n",
      "conv2d_5 (Conv2D)               (None, 24, 24, 64)   36928       conv2d_4[0][0]                   \n",
      "__________________________________________________________________________________________________\n",
      "max_pooling2d_2 (MaxPooling2D)  (None, 12, 12, 64)   0           conv2d_5[0][0]                   \n",
      "__________________________________________________________________________________________________\n",
      "dropout_2 (Dropout)             (None, 12, 12, 64)   0           max_pooling2d_2[0][0]            \n",
      "__________________________________________________________________________________________________\n",
      "flatten (Flatten)               (None, 9216)         0           dropout_2[0][0]                  \n",
      "__________________________________________________________________________________________________\n",
      "dense (Dense)                   (None, 512)          4719104     flatten[0][0]                    \n",
      "__________________________________________________________________________________________________\n",
      "dense_1 (Dense)                 (None, 5)            2565        dense[0][0]                      \n",
      "__________________________________________________________________________________________________\n",
      "input_2 (InputLayer)            [(None, 5)]          0                                            \n",
      "__________________________________________________________________________________________________\n",
      "concatenate (Concatenate)       (None, 10)           0           dense_1[0][0]                    \n",
      "                                                                 input_2[0][0]                    \n",
      "__________________________________________________________________________________________________\n",
      "dense_2 (Dense)                 (None, 5)            55          concatenate[0][0]                \n",
      "==================================================================================================\n",
      "Total params: 4,861,148\n",
      "Trainable params: 4,861,148\n",
      "Non-trainable params: 0\n",
      "__________________________________________________________________________________________________\n",
      "('You must install pydot (`pip install pydot`) and install graphviz (see instructions at https://graphviz.gitlab.io/download/) ', 'for plot_model/model_to_dot to work.')\n"
     ]
    }
   ],
   "source": [
    "model.summary()\n",
    "batch_size = 256\n",
    "epochs = 20\n",
    "model.compile(optimizer='rmsprop', loss='binary_crossentropy', metrics=['accuracy'])\n",
    "\n",
    "plot_model(model, to_file='convolutional_neural_network.png')"
   ]
  },
  {
   "cell_type": "code",
   "execution_count": 38,
   "metadata": {},
   "outputs": [
    {
     "name": "stdout",
     "output_type": "stream",
     "text": [
      "Epoch 1/20\n",
      "28/28 [==============================] - 169s 6s/step - loss: -0.0790 - accuracy: 0.3634 - val_loss: -0.1073 - val_accuracy: 0.4330\n",
      "Epoch 2/20\n",
      "28/28 [==============================] - 165s 6s/step - loss: -0.2410 - accuracy: 0.4681 - val_loss: -0.3144 - val_accuracy: 0.4888\n",
      "Epoch 3/20\n",
      "28/28 [==============================] - 168s 6s/step - loss: -0.3704 - accuracy: 0.4866 - val_loss: -0.4557 - val_accuracy: 0.6952\n",
      "Epoch 4/20\n",
      "28/28 [==============================] - 172s 6s/step - loss: -0.4839 - accuracy: 0.7116 - val_loss: -0.5548 - val_accuracy: 0.7021\n",
      "Epoch 5/20\n",
      "28/28 [==============================] - 167s 6s/step - loss: -0.5968 - accuracy: 0.7157 - val_loss: -0.6489 - val_accuracy: 0.7154\n",
      "Epoch 6/20\n",
      "28/28 [==============================] - 169s 6s/step - loss: -0.6753 - accuracy: 0.7224 - val_loss: -0.7432 - val_accuracy: 0.7234\n",
      "Epoch 7/20\n",
      "28/28 [==============================] - 170s 6s/step - loss: -0.7697 - accuracy: 0.7291 - val_loss: -0.8357 - val_accuracy: 0.7177\n",
      "Epoch 8/20\n",
      "28/28 [==============================] - 171s 6s/step - loss: -0.8729 - accuracy: 0.7340 - val_loss: -0.9281 - val_accuracy: 0.7309\n",
      "Epoch 9/20\n",
      "28/28 [==============================] - 174s 6s/step - loss: -0.9690 - accuracy: 0.7656 - val_loss: -1.0189 - val_accuracy: 0.7936\n",
      "Epoch 10/20\n",
      "28/28 [==============================] - 172s 6s/step - loss: -1.0577 - accuracy: 0.7786 - val_loss: -1.1017 - val_accuracy: 0.8413\n",
      "Epoch 11/20\n",
      "28/28 [==============================] - 175s 6s/step - loss: -1.1323 - accuracy: 0.8369 - val_loss: -1.2056 - val_accuracy: 0.9707\n",
      "Epoch 12/20\n",
      "28/28 [==============================] - 175s 6s/step - loss: -1.2506 - accuracy: 0.9728 - val_loss: -1.2945 - val_accuracy: 0.9689\n",
      "Epoch 13/20\n",
      "28/28 [==============================] - 176s 6s/step - loss: -1.3431 - accuracy: 0.9723 - val_loss: -1.3921 - val_accuracy: 0.9707\n",
      "Epoch 14/20\n",
      "28/28 [==============================] - 178s 6s/step - loss: -1.3705 - accuracy: 0.9733 - val_loss: -1.4733 - val_accuracy: 0.9707\n",
      "Epoch 15/20\n",
      "28/28 [==============================] - 176s 6s/step - loss: -1.5114 - accuracy: 0.9737 - val_loss: -1.5674 - val_accuracy: 0.9672\n",
      "Epoch 16/20\n",
      "28/28 [==============================] - 175s 6s/step - loss: -1.5755 - accuracy: 0.9717 - val_loss: -1.6503 - val_accuracy: 0.9684\n",
      "Epoch 17/20\n",
      "28/28 [==============================] - 174s 6s/step - loss: -1.6967 - accuracy: 0.9745 - val_loss: -1.5996 - val_accuracy: 0.9695\n",
      "Epoch 18/20\n",
      "28/28 [==============================] - 178s 6s/step - loss: -1.7220 - accuracy: 0.9741 - val_loss: -1.8347 - val_accuracy: 0.9649\n",
      "Epoch 19/20\n",
      "28/28 [==============================] - 177s 6s/step - loss: -1.8932 - accuracy: 0.9753 - val_loss: -1.9374 - val_accuracy: 0.9724\n",
      "Epoch 20/20\n",
      "28/28 [==============================] - 180s 6s/step - loss: -1.9696 - accuracy: 0.9730 - val_loss: -2.0027 - val_accuracy: 0.9701\n"
     ]
    }
   ],
   "source": [
    "CNN_model = model.fit([X_all, train_encoded], weights_train, batch_size=batch_size, epochs=epochs, verbose=1, \n",
    "                   validation_data=([A_all,test_encoded], weights_test))"
   ]
  },
  {
   "cell_type": "code",
   "execution_count": 43,
   "metadata": {},
   "outputs": [
    {
     "name": "stdout",
     "output_type": "stream",
     "text": [
      "55/55 [==============================] - 9s 167ms/step - loss: -2.0027 - accuracy: 0.9701\n"
     ]
    }
   ],
   "source": [
    "y_pred = model.evaluate([A_all, test_encoded],weights_test)"
   ]
  }
 ],
 "metadata": {
  "kernelspec": {
   "display_name": "Python 3",
   "language": "python",
   "name": "python3"
  },
  "language_info": {
   "codemirror_mode": {
    "name": "ipython",
    "version": 3
   },
   "file_extension": ".py",
   "mimetype": "text/x-python",
   "name": "python",
   "nbconvert_exporter": "python",
   "pygments_lexer": "ipython3",
   "version": "3.8.8"
  }
 },
 "nbformat": 4,
 "nbformat_minor": 4
}
